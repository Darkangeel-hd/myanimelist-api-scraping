{
 "cells": [
  {
   "cell_type": "markdown",
   "metadata": {},
   "source": [
    "## MAL API Setup"
   ]
  },
  {
   "cell_type": "code",
   "execution_count": 1,
   "metadata": {},
   "outputs": [],
   "source": [
    "import requests\n",
    "\n",
    "api_url = 'https://api.myanimelist.net/v2'\n",
    "\n",
    "# A Client ID is needed (https://myanimelist.net/apiconfig)\n",
    "with open('client_id.txt', 'r') as f:\n",
    "    CLIENT_ID = f.read()\n",
    "\n",
    "headers = {'X-MAL-CLIENT-ID': CLIENT_ID}\n",
    "\n",
    "def get_data(endpoint, params=None):\n",
    "    url = api_url + endpoint\n",
    "    if params:\n",
    "        url += '?' + '&'.join(f'{key}={value}' for key, value in params.items())\n",
    "    response = requests.get(url, headers=headers)\n",
    "    response.raise_for_status()\n",
    "    return response.json()\n"
   ]
  },
  {
   "cell_type": "markdown",
   "metadata": {},
   "source": [
    "## Scrap Manga"
   ]
  },
  {
   "cell_type": "code",
   "execution_count": 74,
   "metadata": {},
   "outputs": [],
   "source": [
    "import json\n",
    "import time\n",
    "import os\n",
    "\n",
    "scraping_save_pages = 'data/data_tmp/manga_pages'\n",
    "\n",
    "if not os.path.exists(scraping_save_pages): # Create saving directory if it doesn't exist\n",
    "  os.makedirs(scraping_save_pages)\n",
    "\n",
    "endpoint = f'/manga/ranking'\n",
    "limit = 500\n",
    "\n",
    "manga_keys = ['id', 'title', 'main_picture', 'alternative_titles', 'start_date', 'end_date', 'synopsis', 'mean', 'rank', 'popularity',\n",
    "              'num_list_users', 'num_scoring_users', 'num_favorites', 'nsfw', 'genres', 'created_at', 'updated_at', 'media_type', 'status',\n",
    "              'num_volumes', 'num_chapters', 'authors{id,first_name,last_name}']\n",
    "\n",
    "short_keys = [key for key in manga_keys if key!='alternative_titles']\n",
    "\n",
    "known_fails = [116770, 144472, 115838, 143751, 146583]\n",
    "\n",
    "afegits = []\n",
    "\n",
    "def scrape_page(page):\n",
    "    params = {'ranking_type': 'favorite', 'limit': limit, 'offset': page*limit, 'fields': ','.join(manga_keys)}\n",
    "    try:\n",
    "        data = get_data(endpoint, params)\n",
    "    except:\n",
    "        print('Yikes')\n",
    "        params['fields'] = ','.join(short_keys)\n",
    "        data = get_data(endpoint, params)\n",
    "\n",
    "        ids = [manga['node']['id'] for manga in data['data']]\n",
    "\n",
    "        offset = page*limit\n",
    "        problems = [offset-1]\n",
    "        for fail in known_fails:\n",
    "            if fail in ids:\n",
    "                problems.append(offset + ids.index(fail))\n",
    "        problems.append(offset + limit)\n",
    "\n",
    "        alternative_titles = []\n",
    "        params['fields'] = 'alternative_titles'\n",
    "        for i in range(len(problems)-1):\n",
    "            params['offset'] = problems[i] + 1\n",
    "            params['limit'] = problems[i+1] - problems[i] - 1\n",
    "            data_short = get_data(endpoint, params)\n",
    "            alternative_titles.extend((manga['node']['id'], manga['node']['alternative_titles']) for manga in data_short['data'])\n",
    "            time.sleep(1)\n",
    "\n",
    "        for id, alt_tit in alternative_titles:\n",
    "            afegits.append(alternative_titles)\n",
    "            data['data'][ids.index(id)]['node']['alternative_titles'] = alt_tit\n",
    "    \n",
    "    useful = [manga['node'] for manga in data['data']]\n",
    "    with open(scraping_save_pages + f'/page{str(page).zfill(3)}.json', 'w') as f:\n",
    "        json.dump(useful, f, indent=4)"
   ]
  },
  {
   "cell_type": "code",
   "execution_count": 76,
   "metadata": {},
   "outputs": [
    {
     "data": {
      "text/plain": [
       "133"
      ]
     },
     "execution_count": 76,
     "metadata": {},
     "output_type": "execute_result"
    }
   ],
   "source": [
    "import math\n",
    "\n",
    "# 25 June 2022\n",
    "previous_total_manga = 66_605\n",
    "previous_last_page = math.ceil(previous_total_manga / limit) - 1\n",
    "\n",
    "data = get_data(endpoint, {'ranking_type': 'favorite', 'limit': limit, 'offset': previous_last_page*limit, 'fields': ','.join(manga_keys)})\n",
    "assert len(data['data']) > 0\n",
    "assert 'next' not in data['paging']\n",
    "\n",
    "last_page = previous_last_page\n",
    "\n",
    "last_page"
   ]
  },
  {
   "cell_type": "code",
   "execution_count": 77,
   "metadata": {},
   "outputs": [
    {
     "name": "stderr",
     "output_type": "stream",
     "text": [
      " 49%|████▉     | 66/134 [04:30<04:31,  3.99s/it]"
     ]
    },
    {
     "name": "stdout",
     "output_type": "stream",
     "text": [
      "Yikes\n"
     ]
    },
    {
     "name": "stderr",
     "output_type": "stream",
     "text": [
      " 61%|██████    | 82/134 [05:40<03:38,  4.21s/it]"
     ]
    },
    {
     "name": "stdout",
     "output_type": "stream",
     "text": [
      "Yikes\n"
     ]
    },
    {
     "name": "stderr",
     "output_type": "stream",
     "text": [
      " 69%|██████▉   | 93/134 [06:31<02:54,  4.27s/it]"
     ]
    },
    {
     "name": "stdout",
     "output_type": "stream",
     "text": [
      "Yikes\n"
     ]
    },
    {
     "name": "stderr",
     "output_type": "stream",
     "text": [
      " 72%|███████▏  | 96/134 [06:50<03:13,  5.08s/it]"
     ]
    },
    {
     "name": "stdout",
     "output_type": "stream",
     "text": [
      "Yikes\n"
     ]
    },
    {
     "name": "stderr",
     "output_type": "stream",
     "text": [
      " 75%|███████▌  | 101/134 [07:16<02:32,  4.62s/it]"
     ]
    },
    {
     "name": "stdout",
     "output_type": "stream",
     "text": [
      "Yikes\n"
     ]
    },
    {
     "name": "stderr",
     "output_type": "stream",
     "text": [
      "100%|██████████| 134/134 [09:39<00:00,  4.33s/it]\n"
     ]
    }
   ],
   "source": [
    "import tqdm\n",
    "import time\n",
    "\n",
    "for page in tqdm.trange(last_page+1):\n",
    "    scrape_page(page)\n",
    "    time.sleep(1)"
   ]
  },
  {
   "cell_type": "markdown",
   "metadata": {},
   "source": [
    "## Merge Files"
   ]
  },
  {
   "cell_type": "code",
   "execution_count": 87,
   "metadata": {},
   "outputs": [
    {
     "data": {
      "text/plain": [
       "66605"
      ]
     },
     "execution_count": 87,
     "metadata": {},
     "output_type": "execute_result"
    }
   ],
   "source": [
    "import os\n",
    "\n",
    "scraping_save_pages = 'data/data_tmp/manga_pages'\n",
    "\n",
    "data = []\n",
    "for file_name in os.listdir(scraping_save_pages):\n",
    "    file_path = os.path.join(scraping_save_pages, file_name)\n",
    "    with open(file_path, 'r') as f:\n",
    "        file = json.load(f)\n",
    "    data.extend(file)\n",
    "\n",
    "len(data)"
   ]
  },
  {
   "cell_type": "code",
   "execution_count": 88,
   "metadata": {},
   "outputs": [],
   "source": [
    "with open('data/data_tmp/manga_raw.json', 'w') as f:\n",
    "    json.dump(data, f, indent=4)"
   ]
  },
  {
   "cell_type": "markdown",
   "metadata": {},
   "source": [
    "## Manga cleaning"
   ]
  },
  {
   "cell_type": "code",
   "execution_count": 99,
   "metadata": {},
   "outputs": [
    {
     "data": {
      "text/html": [
       "<div>\n",
       "<style scoped>\n",
       "    .dataframe tbody tr th:only-of-type {\n",
       "        vertical-align: middle;\n",
       "    }\n",
       "\n",
       "    .dataframe tbody tr th {\n",
       "        vertical-align: top;\n",
       "    }\n",
       "\n",
       "    .dataframe thead th {\n",
       "        text-align: right;\n",
       "    }\n",
       "</style>\n",
       "<table border=\"1\" class=\"dataframe\">\n",
       "  <thead>\n",
       "    <tr style=\"text-align: right;\">\n",
       "      <th></th>\n",
       "      <th>id</th>\n",
       "      <th>title</th>\n",
       "      <th>media_type</th>\n",
       "      <th>mean</th>\n",
       "      <th>num_scoring_users</th>\n",
       "      <th>status</th>\n",
       "      <th>num_volumes</th>\n",
       "      <th>num_chapters</th>\n",
       "      <th>start_date</th>\n",
       "      <th>end_date</th>\n",
       "      <th>num_list_users</th>\n",
       "      <th>popularity</th>\n",
       "      <th>num_favorites</th>\n",
       "      <th>rank</th>\n",
       "      <th>genres</th>\n",
       "      <th>authors</th>\n",
       "      <th>synopsis</th>\n",
       "      <th>nsfw</th>\n",
       "      <th>created_at</th>\n",
       "      <th>updated_at</th>\n",
       "      <th>main_picture_medium</th>\n",
       "      <th>main_picture_large</th>\n",
       "      <th>alternative_titles_en</th>\n",
       "      <th>alternative_titles_ja</th>\n",
       "      <th>alternative_titles_synonyms</th>\n",
       "    </tr>\n",
       "  </thead>\n",
       "  <tbody>\n",
       "    <tr>\n",
       "      <th>0</th>\n",
       "      <td>2</td>\n",
       "      <td>Berserk</td>\n",
       "      <td>manga</td>\n",
       "      <td>9.45</td>\n",
       "      <td>262620</td>\n",
       "      <td>currently_publishing</td>\n",
       "      <td>&lt;NA&gt;</td>\n",
       "      <td>&lt;NA&gt;</td>\n",
       "      <td>1989-08-25</td>\n",
       "      <td>NaT</td>\n",
       "      <td>540237</td>\n",
       "      <td>2</td>\n",
       "      <td>101786</td>\n",
       "      <td>1</td>\n",
       "      <td>[Action, Adventure, Award Winning, Drama, Fant...</td>\n",
       "      <td>[Miura, Kentarou (Story &amp; Art), Studio Gaga (Art]</td>\n",
       "      <td>Guts, a former mercenary now known as the \"Bla...</td>\n",
       "      <td>white</td>\n",
       "      <td>1970-01-01</td>\n",
       "      <td>2022-06-23 08:30:44</td>\n",
       "      <td>https://api-cdn.myanimelist.net/images/manga/1...</td>\n",
       "      <td>https://api-cdn.myanimelist.net/images/manga/1...</td>\n",
       "      <td>Berserk</td>\n",
       "      <td>ベルセルク</td>\n",
       "      <td>[Berserk: The Prototype]</td>\n",
       "    </tr>\n",
       "  </tbody>\n",
       "</table>\n",
       "</div>"
      ],
      "text/plain": [
       "   id    title media_type  mean  num_scoring_users                status  \\\n",
       "0   2  Berserk      manga  9.45             262620  currently_publishing   \n",
       "\n",
       "   num_volumes  num_chapters start_date end_date  num_list_users  popularity  \\\n",
       "0         <NA>          <NA> 1989-08-25      NaT          540237           2   \n",
       "\n",
       "   num_favorites  rank                                             genres  \\\n",
       "0         101786     1  [Action, Adventure, Award Winning, Drama, Fant...   \n",
       "\n",
       "                                             authors  \\\n",
       "0  [Miura, Kentarou (Story & Art), Studio Gaga (Art]   \n",
       "\n",
       "                                            synopsis   nsfw created_at  \\\n",
       "0  Guts, a former mercenary now known as the \"Bla...  white 1970-01-01   \n",
       "\n",
       "           updated_at                                main_picture_medium  \\\n",
       "0 2022-06-23 08:30:44  https://api-cdn.myanimelist.net/images/manga/1...   \n",
       "\n",
       "                                  main_picture_large alternative_titles_en  \\\n",
       "0  https://api-cdn.myanimelist.net/images/manga/1...               Berserk   \n",
       "\n",
       "  alternative_titles_ja alternative_titles_synonyms  \n",
       "0                 ベルセルク    [Berserk: The Prototype]  "
      ]
     },
     "execution_count": 99,
     "metadata": {},
     "output_type": "execute_result"
    }
   ],
   "source": [
    "import pandas as pd\n",
    "import numpy as np\n",
    "import json\n",
    "\n",
    "with open('data/data_tmp/manga_raw.json', 'r') as f:\n",
    "    data = json.load(f)\n",
    "\n",
    "manga = pd.json_normalize(data, sep='_')\n",
    "\n",
    "# Remove 4 duplcated in the data; API issues? it happened twice between page 6 and 7...\n",
    "manga = manga.drop_duplicates(subset=['id']).reset_index().drop(columns='index')\n",
    "\n",
    "# Use Timestamps\n",
    "manga['start_date'] = pd.to_datetime(manga['start_date'])\n",
    "manga['end_date'] = pd.to_datetime(manga['end_date'])\n",
    "\n",
    "# Avoid floats and zeroes marking nsfw\n",
    "manga['rank'] = manga['rank'].replace(0, np.nan).astype('Int64')\n",
    "manga['popularity'] = manga['popularity'].replace(0, np.nan).astype('Int64')\n",
    "manga['num_volumes'] = manga['num_volumes'].replace(0, np.nan).astype('Int64')\n",
    "manga['num_chapters'] = manga['num_chapters'].replace(0, np.nan).astype('Int64')\n",
    "\n",
    "# Only keep names\n",
    "manga['genres'] = manga['genres'].apply(lambda x: [dic['name'] for dic in x] if not x is np.nan else [])\n",
    "\n",
    "# Authors\n",
    "def author_format(authors):\n",
    "    if authors is np.nan:\n",
    "        return []\n",
    "    output = []\n",
    "    for author in authors:\n",
    "        if not author['node']['first_name']:\n",
    "            output.append(f\"{author['node']['last_name']} ({author['role']}\")\n",
    "        else:\n",
    "            output.append(f\"{author['node']['last_name']}, {author['node']['first_name']} ({author['role']})\")\n",
    "    return output\n",
    "manga['authors']  = manga['authors'].apply(author_format)\n",
    "\n",
    "# MyAnimeList edits\n",
    "manga['created_at'] = pd.to_datetime(manga['created_at']).dt.tz_convert(None)\n",
    "manga['updated_at'] = pd.to_datetime(manga['updated_at']).dt.tz_convert(None)\n",
    "\n",
    "# Avoid empty string\n",
    "manga.loc[manga['synopsis'].isin(['', ' ', 'N/A', 'n/a']), 'synopsis'] = np.nan\n",
    "manga.loc[manga['alternative_titles_en'].isin(['', 'N/A']), 'alternative_titles_en'] = np.nan\n",
    "manga['alternative_titles_ja'] = manga['alternative_titles_ja'].replace('', np.nan)\n",
    "manga['alternative_titles_synonyms'] = manga['alternative_titles_synonyms'].fillna('').apply(list)\n",
    "\n",
    "\n",
    "order = ['id', 'title', 'media_type', 'mean', 'num_scoring_users',                          # 10 Most important attributes,\n",
    "         'status', 'num_volumes', 'num_chapters', 'start_date', 'end_date',                 # appearing first on kaggle\n",
    "\n",
    "         'num_list_users', 'popularity', 'num_favorites', 'rank',                           # Other important attrubtes\n",
    "         \n",
    "         'genres', 'authors',                                                               # Multivalued attributes\n",
    "         'synopsis', 'nsfw', 'created_at', 'updated_at',                                    # Description, MyAnimeList edits\n",
    "\n",
    "         'main_picture_medium', 'main_picture_large',                                       # Media data\n",
    "         'alternative_titles_en', 'alternative_titles_ja', 'alternative_titles_synonyms']   # Other titles\n",
    "\n",
    "\n",
    "manga = manga[order]\n",
    "\n",
    "# Save to csv\n",
    "manga.to_csv('data/manga.csv', index=False)\n",
    "\n",
    "pd.options.display.max_columns = None\n",
    "manga.head(1)"
   ]
  },
  {
   "cell_type": "markdown",
   "metadata": {},
   "source": [
    "# Load Manga"
   ]
  },
  {
   "cell_type": "code",
   "execution_count": 100,
   "metadata": {},
   "outputs": [
    {
     "data": {
      "text/html": [
       "<div>\n",
       "<style scoped>\n",
       "    .dataframe tbody tr th:only-of-type {\n",
       "        vertical-align: middle;\n",
       "    }\n",
       "\n",
       "    .dataframe tbody tr th {\n",
       "        vertical-align: top;\n",
       "    }\n",
       "\n",
       "    .dataframe thead th {\n",
       "        text-align: right;\n",
       "    }\n",
       "</style>\n",
       "<table border=\"1\" class=\"dataframe\">\n",
       "  <thead>\n",
       "    <tr style=\"text-align: right;\">\n",
       "      <th></th>\n",
       "      <th>id</th>\n",
       "      <th>title</th>\n",
       "      <th>media_type</th>\n",
       "      <th>mean</th>\n",
       "      <th>num_scoring_users</th>\n",
       "      <th>status</th>\n",
       "      <th>num_volumes</th>\n",
       "      <th>num_chapters</th>\n",
       "      <th>start_date</th>\n",
       "      <th>end_date</th>\n",
       "      <th>num_list_users</th>\n",
       "      <th>popularity</th>\n",
       "      <th>num_favorites</th>\n",
       "      <th>rank</th>\n",
       "      <th>genres</th>\n",
       "      <th>authors</th>\n",
       "      <th>synopsis</th>\n",
       "      <th>nsfw</th>\n",
       "      <th>created_at</th>\n",
       "      <th>updated_at</th>\n",
       "      <th>main_picture_medium</th>\n",
       "      <th>main_picture_large</th>\n",
       "      <th>alternative_titles_en</th>\n",
       "      <th>alternative_titles_ja</th>\n",
       "      <th>alternative_titles_synonyms</th>\n",
       "    </tr>\n",
       "  </thead>\n",
       "  <tbody>\n",
       "    <tr>\n",
       "      <th>0</th>\n",
       "      <td>2</td>\n",
       "      <td>Berserk</td>\n",
       "      <td>manga</td>\n",
       "      <td>9.45</td>\n",
       "      <td>262620</td>\n",
       "      <td>currently_publishing</td>\n",
       "      <td>&lt;NA&gt;</td>\n",
       "      <td>&lt;NA&gt;</td>\n",
       "      <td>1989-08-25</td>\n",
       "      <td>NaT</td>\n",
       "      <td>540237</td>\n",
       "      <td>2</td>\n",
       "      <td>101786</td>\n",
       "      <td>1</td>\n",
       "      <td>[Action, Adventure, Award Winning, Drama, Fant...</td>\n",
       "      <td>[Miura, Kentarou (Story &amp; Art), Studio Gaga (Art]</td>\n",
       "      <td>Guts, a former mercenary now known as the \"Bla...</td>\n",
       "      <td>white</td>\n",
       "      <td>1970-01-01</td>\n",
       "      <td>2022-06-23 08:30:44</td>\n",
       "      <td>https://api-cdn.myanimelist.net/images/manga/1...</td>\n",
       "      <td>https://api-cdn.myanimelist.net/images/manga/1...</td>\n",
       "      <td>Berserk</td>\n",
       "      <td>ベルセルク</td>\n",
       "      <td>[Berserk: The Prototype]</td>\n",
       "    </tr>\n",
       "  </tbody>\n",
       "</table>\n",
       "</div>"
      ],
      "text/plain": [
       "   id    title media_type  mean  num_scoring_users                status  \\\n",
       "0   2  Berserk      manga  9.45             262620  currently_publishing   \n",
       "\n",
       "   num_volumes  num_chapters start_date end_date  num_list_users  popularity  \\\n",
       "0         <NA>          <NA> 1989-08-25      NaT          540237           2   \n",
       "\n",
       "   num_favorites  rank                                             genres  \\\n",
       "0         101786     1  [Action, Adventure, Award Winning, Drama, Fant...   \n",
       "\n",
       "                                             authors  \\\n",
       "0  [Miura, Kentarou (Story & Art), Studio Gaga (Art]   \n",
       "\n",
       "                                            synopsis   nsfw created_at  \\\n",
       "0  Guts, a former mercenary now known as the \"Bla...  white 1970-01-01   \n",
       "\n",
       "           updated_at                                main_picture_medium  \\\n",
       "0 2022-06-23 08:30:44  https://api-cdn.myanimelist.net/images/manga/1...   \n",
       "\n",
       "                                  main_picture_large alternative_titles_en  \\\n",
       "0  https://api-cdn.myanimelist.net/images/manga/1...               Berserk   \n",
       "\n",
       "  alternative_titles_ja alternative_titles_synonyms  \n",
       "0                 ベルセルク    [Berserk: The Prototype]  "
      ]
     },
     "execution_count": 100,
     "metadata": {},
     "output_type": "execute_result"
    }
   ],
   "source": [
    "from ast import literal_eval\n",
    "import pandas as pd\n",
    "\n",
    "manga = pd.read_csv('data/manga.csv')\n",
    "\n",
    "columns_dtype_datetime = ['start_date', 'end_date', 'created_at', 'updated_at']\n",
    "for col in columns_dtype_datetime:\n",
    "    manga[col] = pd.to_datetime(manga[col])\n",
    "\n",
    "columns_dtype_Int64 = ['num_volumes', 'num_chapters', 'popularity', 'rank']\n",
    "for col in columns_dtype_Int64:\n",
    "    manga[col] = manga[col].astype('Int64')\n",
    "\n",
    "columns_dtype_list = ['genres', 'authors', 'alternative_titles_synonyms']\n",
    "for col in columns_dtype_list:\n",
    "    manga[col] = manga[col].apply(literal_eval)\n",
    "\n",
    "manga.head(1)"
   ]
  },
  {
   "cell_type": "code",
   "execution_count": null,
   "metadata": {},
   "outputs": [],
   "source": []
  }
 ],
 "metadata": {
  "kernelspec": {
   "display_name": "Python 3.10.1 64-bit",
   "language": "python",
   "name": "python3"
  },
  "language_info": {
   "codemirror_mode": {
    "name": "ipython",
    "version": 3
   },
   "file_extension": ".py",
   "mimetype": "text/x-python",
   "name": "python",
   "nbconvert_exporter": "python",
   "pygments_lexer": "ipython3",
   "version": "3.10.1"
  },
  "orig_nbformat": 4,
  "vscode": {
   "interpreter": {
    "hash": "ad2117d8da04c720903da65ba8862d63b2fb82849cd17efbeca69c80f28b43db"
   }
  }
 },
 "nbformat": 4,
 "nbformat_minor": 2
}
