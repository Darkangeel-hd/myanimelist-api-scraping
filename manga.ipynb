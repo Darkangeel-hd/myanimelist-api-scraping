{
 "cells": [
  {
   "cell_type": "markdown",
   "metadata": {},
   "source": [
    "## MAL API Setup"
   ]
  },
  {
   "cell_type": "code",
   "execution_count": 28,
   "metadata": {},
   "outputs": [],
   "source": [
    "import requests\n",
    "\n",
    "api_url = 'https://api.myanimelist.net/v2'\n",
    "\n",
    "# A Client ID is needed (https://myanimelist.net/apiconfig)\n",
    "with open('client_id.txt', 'r') as f:\n",
    "    CLIENT_ID = f.read()\n",
    "\n",
    "headers = {'X-MAL-CLIENT-ID': CLIENT_ID}\n",
    "\n",
    "def get_data(endpoint, params=None):\n",
    "    url = api_url + endpoint\n",
    "    if params:\n",
    "        url += '?' + '&'.join(f'{key}={value}' for key, value in params.items())\n",
    "    response = requests.get(url, headers=headers)\n",
    "    response.raise_for_status()\n",
    "    return response.json()\n"
   ]
  },
  {
   "cell_type": "markdown",
   "metadata": {},
   "source": [
    "## Scrap Manga"
   ]
  },
  {
   "cell_type": "code",
   "execution_count": 29,
   "metadata": {},
   "outputs": [],
   "source": [
    "import json\n",
    "import os\n",
    "\n",
    "scraping_save_pages = 'data/data_tmp/manga_pages'\n",
    "\n",
    "if not os.path.exists(scraping_save_pages): # Create saving directory if it doesn't exist\n",
    "  os.makedirs(scraping_save_pages)\n",
    "\n",
    "endpoint = f'/manga/ranking'\n",
    "limit = 500\n",
    "\n",
    "manga_keys = ['id', 'title', 'main_picture', 'alternative_titles', 'start_date', 'end_date', 'synopsis', 'mean', 'rank', 'popularity',\n",
    "              'num_list_users', 'num_scoring_users', 'num_favorites', 'nsfw', 'genres', 'created_at', 'updated_at', 'media_type', 'status',\n",
    "              'num_volumes', 'num_chapters', 'authors']\n",
    "\n",
    "def scrape_page(page):\n",
    "    params = {'ranking_type': 'favorite', 'limit': limit, 'offset': page*limit, 'fields': ','.join(manga_keys)}\n",
    "    data = get_data(endpoint, params)\n",
    "    useful = [anime['node'] for anime in data['data']]\n",
    "    with open(scraping_save_pages + f'/page{str(page).zfill(3)}.json', 'w') as f:\n",
    "        json.dump(useful, f, indent=4)"
   ]
  },
  {
   "cell_type": "code",
   "execution_count": 3,
   "metadata": {},
   "outputs": [
    {
     "data": {
      "text/plain": [
       "132"
      ]
     },
     "execution_count": 3,
     "metadata": {},
     "output_type": "execute_result"
    }
   ],
   "source": [
    "import math\n",
    "\n",
    "# 21 June 2022 5 PM CEST\n",
    "previous_total_manga = 66_493\n",
    "previous_last_page = math.ceil(previous_total_manga / limit) - 1\n",
    "\n",
    "data = get_data(endpoint, {'ranking_type': 'favorite', 'limit': limit, 'offset': previous_last_page*limit, 'fields': ','.join(manga_keys)})\n",
    "assert len(data['data']) > 0\n",
    "assert 'next' not in data['paging']\n",
    "\n",
    "last_page = previous_last_page\n",
    "\n",
    "last_page"
   ]
  },
  {
   "cell_type": "code",
   "execution_count": 32,
   "metadata": {},
   "outputs": [
    {
     "name": "stderr",
     "output_type": "stream",
     "text": [
      "100%|██████████| 31/31 [01:37<00:00,  3.14s/it]\n"
     ]
    }
   ],
   "source": [
    "import tqdm\n",
    "import time\n",
    "\n",
    "for page in tqdm.trange(last_page+1):   # Crashed in pages: 66, 82, 93, 96, 101 (had to scrap them without requesting the field alternative_titles\n",
    "    scrape_page(page)                   # Some Manga might not have the alternative_tiltes key correctly and asking for it makes the request crash?\n",
    "    time.sleep(1)"
   ]
  },
  {
   "cell_type": "markdown",
   "metadata": {},
   "source": [
    "## Merge Files"
   ]
  },
  {
   "cell_type": "code",
   "execution_count": 48,
   "metadata": {},
   "outputs": [
    {
     "data": {
      "text/plain": [
       "66493"
      ]
     },
     "execution_count": 48,
     "metadata": {},
     "output_type": "execute_result"
    }
   ],
   "source": [
    "import os\n",
    "\n",
    "scraping_save_pages = 'data/data_tmp/manga_pages'\n",
    "\n",
    "data = []\n",
    "for file_name in os.listdir(scraping_save_pages):\n",
    "    file_path = os.path.join(scraping_save_pages, file_name)\n",
    "    with open(file_path, 'r') as f:\n",
    "        file = json.load(f)\n",
    "    data.extend(file)\n",
    "\n",
    "len(data)"
   ]
  },
  {
   "cell_type": "code",
   "execution_count": 49,
   "metadata": {},
   "outputs": [],
   "source": [
    "with open('data/data_tmp/manga_raw.json', 'w') as f:\n",
    "    json.dump(data, f, indent=4)"
   ]
  },
  {
   "cell_type": "markdown",
   "metadata": {},
   "source": [
    "## Manga cleaning"
   ]
  },
  {
   "cell_type": "code",
   "execution_count": 138,
   "metadata": {},
   "outputs": [
    {
     "data": {
      "text/html": [
       "<div>\n",
       "<style scoped>\n",
       "    .dataframe tbody tr th:only-of-type {\n",
       "        vertical-align: middle;\n",
       "    }\n",
       "\n",
       "    .dataframe tbody tr th {\n",
       "        vertical-align: top;\n",
       "    }\n",
       "\n",
       "    .dataframe thead th {\n",
       "        text-align: right;\n",
       "    }\n",
       "</style>\n",
       "<table border=\"1\" class=\"dataframe\">\n",
       "  <thead>\n",
       "    <tr style=\"text-align: right;\">\n",
       "      <th></th>\n",
       "      <th>id</th>\n",
       "      <th>title</th>\n",
       "      <th>media_type</th>\n",
       "      <th>mean</th>\n",
       "      <th>num_scoring_users</th>\n",
       "      <th>status</th>\n",
       "      <th>num_volumes</th>\n",
       "      <th>num_chapters</th>\n",
       "      <th>start_date</th>\n",
       "      <th>end_date</th>\n",
       "      <th>num_list_users</th>\n",
       "      <th>popularity</th>\n",
       "      <th>num_favorites</th>\n",
       "      <th>rank</th>\n",
       "      <th>genres</th>\n",
       "      <th>authors</th>\n",
       "      <th>synopsis</th>\n",
       "      <th>nsfw</th>\n",
       "      <th>created_at</th>\n",
       "      <th>updated_at</th>\n",
       "      <th>main_picture_medium</th>\n",
       "      <th>main_picture_large</th>\n",
       "      <th>alternative_titles_en</th>\n",
       "      <th>alternative_titles_ja</th>\n",
       "      <th>alternative_titles_synonyms</th>\n",
       "    </tr>\n",
       "  </thead>\n",
       "  <tbody>\n",
       "    <tr>\n",
       "      <th>0</th>\n",
       "      <td>2</td>\n",
       "      <td>Berserk</td>\n",
       "      <td>manga</td>\n",
       "      <td>9.45</td>\n",
       "      <td>261724</td>\n",
       "      <td>on_hiatus</td>\n",
       "      <td>41</td>\n",
       "      <td>380</td>\n",
       "      <td>1989-08-25</td>\n",
       "      <td>2021-09-10</td>\n",
       "      <td>538522</td>\n",
       "      <td>2</td>\n",
       "      <td>101419</td>\n",
       "      <td>1</td>\n",
       "      <td>[Action, Adventure, Award Winning, Drama, Fant...</td>\n",
       "      <td>[{'author_id': 1868, 'role': 'Story &amp; Art'}]</td>\n",
       "      <td>Guts, a former mercenary now known as the \"Bla...</td>\n",
       "      <td>white</td>\n",
       "      <td>1970-01-01</td>\n",
       "      <td>2022-06-08 23:10:04</td>\n",
       "      <td>https://api-cdn.myanimelist.net/images/manga/1...</td>\n",
       "      <td>https://api-cdn.myanimelist.net/images/manga/1...</td>\n",
       "      <td>Berserk</td>\n",
       "      <td>ベルセルク</td>\n",
       "      <td>[Berserk: The Prototype]</td>\n",
       "    </tr>\n",
       "  </tbody>\n",
       "</table>\n",
       "</div>"
      ],
      "text/plain": [
       "   id    title media_type  mean  num_scoring_users     status  num_volumes  \\\n",
       "0   2  Berserk      manga  9.45             261724  on_hiatus           41   \n",
       "\n",
       "   num_chapters start_date   end_date  num_list_users  popularity  \\\n",
       "0           380 1989-08-25 2021-09-10          538522           2   \n",
       "\n",
       "   num_favorites  rank                                             genres  \\\n",
       "0         101419     1  [Action, Adventure, Award Winning, Drama, Fant...   \n",
       "\n",
       "                                        authors  \\\n",
       "0  [{'author_id': 1868, 'role': 'Story & Art'}]   \n",
       "\n",
       "                                            synopsis   nsfw created_at  \\\n",
       "0  Guts, a former mercenary now known as the \"Bla...  white 1970-01-01   \n",
       "\n",
       "           updated_at                                main_picture_medium  \\\n",
       "0 2022-06-08 23:10:04  https://api-cdn.myanimelist.net/images/manga/1...   \n",
       "\n",
       "                                  main_picture_large alternative_titles_en  \\\n",
       "0  https://api-cdn.myanimelist.net/images/manga/1...               Berserk   \n",
       "\n",
       "  alternative_titles_ja alternative_titles_synonyms  \n",
       "0                 ベルセルク    [Berserk: The Prototype]  "
      ]
     },
     "execution_count": 138,
     "metadata": {},
     "output_type": "execute_result"
    }
   ],
   "source": [
    "import pandas as pd\n",
    "import numpy as np\n",
    "import json\n",
    "\n",
    "with open('data/data_tmp/manga_raw.json', 'r') as f:\n",
    "    data = json.load(f)\n",
    "\n",
    "manga = pd.json_normalize(data, sep='_')\n",
    "\n",
    "# Remove 12 duplcated in the first data gathering\n",
    "manga = manga.drop_duplicates(subset=['id']).reset_index().drop(columns='index')\n",
    "\n",
    "# Use Timestamps\n",
    "manga['start_date'] = pd.to_datetime(manga['start_date'])\n",
    "manga['end_date'] = pd.to_datetime(manga['end_date'])\n",
    "\n",
    "# Avoid floats and zeroes marking nsfw\n",
    "manga['rank'] = manga['rank'].replace(0, np.nan).astype('Int64')\n",
    "manga['popularity'] = manga['popularity'].replace(0, np.nan).astype('Int64')\n",
    "#anime['num_episodes'] = anime['num_episodes'].replace(0, np.nan).astype('Int64') 0 volumes 0 chapters?\n",
    "\n",
    "# Only keep names\n",
    "manga['genres'] = manga['genres'].apply(lambda x: [dic['name'] for dic in x] if not x is np.nan else [])\n",
    "\n",
    "# Missing author names!!!\n",
    "manga['authors'] = manga['authors'].apply(lambda x: [{'author_id': dic['node']['id'], 'role': dic['role']} for dic in x] if not x is np.nan else [])\n",
    "\n",
    "# MyAnimeList edits\n",
    "manga['created_at'] = pd.to_datetime(manga['created_at']).dt.tz_convert(None)\n",
    "manga['updated_at'] = pd.to_datetime(manga['updated_at']).dt.tz_convert(None)\n",
    "\n",
    "# Avoid empty string\n",
    "manga['alternative_titles_en'] = manga['alternative_titles_en'].replace('', np.nan)\n",
    "manga['alternative_titles_ja'] = manga['alternative_titles_ja'].replace('', np.nan)\n",
    "manga['alternative_titles_synonyms'] = manga['alternative_titles_synonyms'].fillna('').apply(list)\n",
    "\n",
    "\n",
    "order = ['id', 'title', 'media_type', 'mean', 'num_scoring_users',                          # 10 Most important attributes,\n",
    "         'status', 'num_volumes', 'num_chapters', 'start_date', 'end_date',                 # appearing first on kaggle\n",
    "\n",
    "         'num_list_users', 'popularity', 'num_favorites', 'rank',                           # Other important attrubtes\n",
    "         \n",
    "         'genres', 'authors',                                                               # Multivalued attributes\n",
    "         'synopsis', 'nsfw', 'created_at', 'updated_at',                                    # Description, MyAnimeList edits\n",
    "\n",
    "         'main_picture_medium', 'main_picture_large',                                       # Media data\n",
    "         'alternative_titles_en', 'alternative_titles_ja', 'alternative_titles_synonyms']   # Other titles\n",
    "\n",
    "\n",
    "manga = manga[order]\n",
    "\n",
    "# Save to csv\n",
    "manga.to_csv('data/manga.csv', index=False)\n",
    "\n",
    "pd.options.display.max_columns = None\n",
    "manga.head(1)"
   ]
  },
  {
   "cell_type": "code",
   "execution_count": null,
   "metadata": {},
   "outputs": [],
   "source": []
  }
 ],
 "metadata": {
  "kernelspec": {
   "display_name": "Python 3.10.1 64-bit",
   "language": "python",
   "name": "python3"
  },
  "language_info": {
   "codemirror_mode": {
    "name": "ipython",
    "version": 3
   },
   "file_extension": ".py",
   "mimetype": "text/x-python",
   "name": "python",
   "nbconvert_exporter": "python",
   "pygments_lexer": "ipython3",
   "version": "3.10.1"
  },
  "orig_nbformat": 4,
  "vscode": {
   "interpreter": {
    "hash": "ad2117d8da04c720903da65ba8862d63b2fb82849cd17efbeca69c80f28b43db"
   }
  }
 },
 "nbformat": 4,
 "nbformat_minor": 2
}
