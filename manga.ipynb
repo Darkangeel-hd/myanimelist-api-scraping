{
 "cells": [
  {
   "cell_type": "markdown",
   "metadata": {},
   "source": [
    "## Scrap Manga"
   ]
  },
  {
   "cell_type": "code",
   "execution_count": 1,
   "metadata": {},
   "outputs": [],
   "source": [
    "import mal_api\n",
    "import json\n",
    "import os\n",
    "\n",
    "scraping_save_pages = 'data/raw/manga'\n",
    "\n",
    "if not os.path.exists(scraping_save_pages): # Create saving directory if it doesn't exist\n",
    "  os.makedirs(scraping_save_pages)\n",
    "\n",
    "endpoint = f'/manga/ranking'\n",
    "limit = 500\n",
    "\n",
    "manga_keys = ['id', 'title', 'main_picture', 'alternative_titles', 'start_date', 'end_date', 'synopsis', 'mean', 'rank', 'popularity',\n",
    "              'num_list_users', 'num_scoring_users', 'num_favorites', 'nsfw', 'genres', 'created_at', 'updated_at', 'media_type', 'status',\n",
    "              'num_volumes', 'num_chapters', 'authors{id,first_name,last_name}']\n",
    "\n",
    "def scrape_page(page):\n",
    "    params = {'ranking_type': 'bypopularity', 'limit': limit, 'offset': page*limit, 'fields': ','.join(manga_keys)}\n",
    "    data = mal_api.get_data(endpoint, params)\n",
    "    useful = [manga['node'] for manga in data['data']]\n",
    "    with open(scraping_save_pages + f'/page{str(page).zfill(3)}.json', 'w') as f:\n",
    "        json.dump(useful, f, indent=4)"
   ]
  },
  {
   "cell_type": "code",
   "execution_count": 2,
   "metadata": {},
   "outputs": [
    {
     "data": {
      "text/plain": [
       "119"
      ]
     },
     "execution_count": 2,
     "metadata": {},
     "output_type": "execute_result"
    }
   ],
   "source": [
    "import math\n",
    "\n",
    "# 12 July 2022\n",
    "previous_total_manga = 59_767\n",
    "previous_last_page = math.ceil(previous_total_manga / limit) - 1\n",
    "\n",
    "data = mal_api.get_data(endpoint, {'ranking_type': 'bypopularity', 'limit': limit, 'offset': previous_last_page*limit, 'fields': ','.join(manga_keys)})\n",
    "assert len(data['data']) > 0\n",
    "assert 'next' not in data['paging']\n",
    "\n",
    "last_page = previous_last_page\n",
    "\n",
    "last_page"
   ]
  },
  {
   "cell_type": "code",
   "execution_count": 3,
   "metadata": {},
   "outputs": [
    {
     "name": "stderr",
     "output_type": "stream",
     "text": [
      "100%|██████████| 120/120 [08:13<00:00,  4.11s/it]\n"
     ]
    }
   ],
   "source": [
    "import tqdm\n",
    "import time\n",
    "\n",
    "for page in tqdm.trange(last_page+1):\n",
    "    scrape_page(page)\n",
    "    time.sleep(1)"
   ]
  },
  {
   "cell_type": "markdown",
   "metadata": {},
   "source": [
    "## Merge Files"
   ]
  },
  {
   "cell_type": "code",
   "execution_count": 4,
   "metadata": {},
   "outputs": [
    {
     "data": {
      "text/plain": [
       "59767"
      ]
     },
     "execution_count": 4,
     "metadata": {},
     "output_type": "execute_result"
    }
   ],
   "source": [
    "import os\n",
    "\n",
    "scraping_save_pages = 'data/raw/manga'\n",
    "\n",
    "data = []\n",
    "for file_name in os.listdir(scraping_save_pages):\n",
    "    file_path = os.path.join(scraping_save_pages, file_name)\n",
    "    with open(file_path, 'r') as f:\n",
    "        file = json.load(f)\n",
    "    data.extend(file)\n",
    "\n",
    "len(data)"
   ]
  },
  {
   "cell_type": "code",
   "execution_count": 5,
   "metadata": {},
   "outputs": [],
   "source": [
    "with open('data/raw/manga.json', 'w') as f:\n",
    "    json.dump(data, f, indent=4)"
   ]
  },
  {
   "cell_type": "markdown",
   "metadata": {},
   "source": [
    "## Manga cleaning"
   ]
  },
  {
   "cell_type": "code",
   "execution_count": 8,
   "metadata": {},
   "outputs": [
    {
     "name": "stdout",
     "output_type": "stream",
     "text": [
      "(59767, 25)\n"
     ]
    },
    {
     "data": {
      "text/html": [
       "<div>\n",
       "<style scoped>\n",
       "    .dataframe tbody tr th:only-of-type {\n",
       "        vertical-align: middle;\n",
       "    }\n",
       "\n",
       "    .dataframe tbody tr th {\n",
       "        vertical-align: top;\n",
       "    }\n",
       "\n",
       "    .dataframe thead th {\n",
       "        text-align: right;\n",
       "    }\n",
       "</style>\n",
       "<table border=\"1\" class=\"dataframe\">\n",
       "  <thead>\n",
       "    <tr style=\"text-align: right;\">\n",
       "      <th></th>\n",
       "      <th>id</th>\n",
       "      <th>title</th>\n",
       "      <th>media_type</th>\n",
       "      <th>mean</th>\n",
       "      <th>num_scoring_users</th>\n",
       "      <th>status</th>\n",
       "      <th>num_volumes</th>\n",
       "      <th>num_chapters</th>\n",
       "      <th>start_date</th>\n",
       "      <th>end_date</th>\n",
       "      <th>num_list_users</th>\n",
       "      <th>popularity</th>\n",
       "      <th>num_favorites</th>\n",
       "      <th>rank</th>\n",
       "      <th>genres</th>\n",
       "      <th>authors</th>\n",
       "      <th>synopsis</th>\n",
       "      <th>nsfw</th>\n",
       "      <th>created_at</th>\n",
       "      <th>updated_at</th>\n",
       "      <th>main_picture_medium</th>\n",
       "      <th>main_picture_large</th>\n",
       "      <th>alternative_titles_en</th>\n",
       "      <th>alternative_titles_ja</th>\n",
       "      <th>alternative_titles_synonyms</th>\n",
       "    </tr>\n",
       "  </thead>\n",
       "  <tbody>\n",
       "    <tr>\n",
       "      <th>0</th>\n",
       "      <td>23390</td>\n",
       "      <td>Shingeki no Kyojin</td>\n",
       "      <td>manga</td>\n",
       "      <td>8.57</td>\n",
       "      <td>361834</td>\n",
       "      <td>finished</td>\n",
       "      <td>34</td>\n",
       "      <td>141</td>\n",
       "      <td>2009-09-09</td>\n",
       "      <td>2021-04-09</td>\n",
       "      <td>588155</td>\n",
       "      <td>1</td>\n",
       "      <td>66856</td>\n",
       "      <td>87</td>\n",
       "      <td>[Action, Award Winning, Drama, Gore, Military,...</td>\n",
       "      <td>[Isayama, Hajime (Story &amp; Art)]</td>\n",
       "      <td>Hundreds of years ago, horrifying creatures wh...</td>\n",
       "      <td>white</td>\n",
       "      <td>1970-01-01 00:00:00+00:00</td>\n",
       "      <td>2022-04-18 05:10:58+00:00</td>\n",
       "      <td>https://api-cdn.myanimelist.net/images/manga/2...</td>\n",
       "      <td>https://api-cdn.myanimelist.net/images/manga/2...</td>\n",
       "      <td>Attack on Titan</td>\n",
       "      <td>進撃の巨人</td>\n",
       "      <td>[]</td>\n",
       "    </tr>\n",
       "  </tbody>\n",
       "</table>\n",
       "</div>"
      ],
      "text/plain": [
       "      id               title media_type  mean  num_scoring_users    status  \\\n",
       "0  23390  Shingeki no Kyojin      manga  8.57             361834  finished   \n",
       "\n",
       "   num_volumes  num_chapters start_date   end_date  num_list_users  \\\n",
       "0           34           141 2009-09-09 2021-04-09          588155   \n",
       "\n",
       "   popularity  num_favorites  rank  \\\n",
       "0           1          66856    87   \n",
       "\n",
       "                                              genres  \\\n",
       "0  [Action, Award Winning, Drama, Gore, Military,...   \n",
       "\n",
       "                           authors  \\\n",
       "0  [Isayama, Hajime (Story & Art)]   \n",
       "\n",
       "                                            synopsis   nsfw  \\\n",
       "0  Hundreds of years ago, horrifying creatures wh...  white   \n",
       "\n",
       "                 created_at                updated_at  \\\n",
       "0 1970-01-01 00:00:00+00:00 2022-04-18 05:10:58+00:00   \n",
       "\n",
       "                                 main_picture_medium  \\\n",
       "0  https://api-cdn.myanimelist.net/images/manga/2...   \n",
       "\n",
       "                                  main_picture_large alternative_titles_en  \\\n",
       "0  https://api-cdn.myanimelist.net/images/manga/2...       Attack on Titan   \n",
       "\n",
       "  alternative_titles_ja alternative_titles_synonyms  \n",
       "0                 進撃の巨人                          []  "
      ]
     },
     "execution_count": 8,
     "metadata": {},
     "output_type": "execute_result"
    }
   ],
   "source": [
    "import pandas as pd\n",
    "import numpy as np\n",
    "import json\n",
    "\n",
    "with open('data/raw/manga.json', 'r') as f:\n",
    "    data = json.load(f)\n",
    "\n",
    "manga = pd.json_normalize(data, sep='_')\n",
    "\n",
    "# Use Timestamps\n",
    "manga['start_date'] = pd.to_datetime(manga['start_date'])\n",
    "manga['end_date'] = pd.to_datetime(manga['end_date'])\n",
    "\n",
    "# Avoid false zeroes and unnecessary floats \n",
    "manga['num_volumes'] = manga['num_volumes'].replace(0, np.nan).astype('Int64')\n",
    "manga['num_chapters'] = manga['num_chapters'].replace(0, np.nan).astype('Int64')\n",
    "manga['rank'] = manga['rank'].astype('Int64')\n",
    "\n",
    "# Only keep names\n",
    "manga['genres'] = manga['genres'].apply(lambda x: [dic['name'] for dic in x] if not x is np.nan else [])\n",
    "\n",
    "# Authors\n",
    "def author_format(authors):\n",
    "    if authors is np.nan:\n",
    "        return []\n",
    "    output = []\n",
    "    for author in authors:\n",
    "        if not author['node']['first_name']:\n",
    "            output.append(f\"{author['node']['last_name']} ({author['role']}\")\n",
    "        else:\n",
    "            output.append(f\"{author['node']['last_name']}, {author['node']['first_name']} ({author['role']})\")\n",
    "    return output\n",
    "manga['authors']  = manga['authors'].apply(author_format)\n",
    "\n",
    "# MyAnimeList edits\n",
    "manga['created_at'] = pd.to_datetime(manga['created_at'])\n",
    "manga['updated_at'] = pd.to_datetime(manga['updated_at'])\n",
    "\n",
    "# Avoid empty string\n",
    "manga.loc[manga['synopsis'].isin(['', ' ', 'N/A', 'n/a']), 'synopsis'] = np.nan\n",
    "manga.loc[manga['alternative_titles_en']=='', 'alternative_titles_en'] = np.nan\n",
    "manga['alternative_titles_ja'] = manga['alternative_titles_ja'].replace('', np.nan)\n",
    "manga['alternative_titles_synonyms'] = manga['alternative_titles_synonyms'].fillna('').apply(list)\n",
    "\n",
    "\n",
    "order = ['id', 'title', 'media_type', 'mean', 'num_scoring_users',                          # 10 Most important attributes,\n",
    "         'status', 'num_volumes', 'num_chapters', 'start_date', 'end_date',                 # appearing first on kaggle\n",
    "\n",
    "         'num_list_users', 'popularity', 'num_favorites', 'rank',                           # Other important attrubtes\n",
    "         \n",
    "         'genres', 'authors',                                                               # Multivalued attributes\n",
    "         'synopsis', 'nsfw', 'created_at', 'updated_at',                                    # Description, MyAnimeList edits\n",
    "\n",
    "         'main_picture_medium', 'main_picture_large',                                       # Media data\n",
    "         'alternative_titles_en', 'alternative_titles_ja', 'alternative_titles_synonyms']   # Other titles\n",
    "\n",
    "\n",
    "manga = manga[order]\n",
    "\n",
    "# Save to csv\n",
    "manga.to_csv('data/manga.csv', index=False)\n",
    "\n",
    "print(manga.shape)\n",
    "\n",
    "pd.options.display.max_columns = None\n",
    "manga.head(1)"
   ]
  },
  {
   "cell_type": "markdown",
   "metadata": {},
   "source": [
    "### Ranking\n",
    "\n",
    "(cal eliminar!, potser quan afegeixi Jikan?)\n",
    "\n",
    "7 Juliol 2022\n",
    "\n",
    "No hi ha en el ranking el concepte de no publicats\n",
    "\n",
    "- 1 a 15.851: ordenats per nota\n",
    "- 15.852 a 41.085: ordenats per id... (= created_at probably)\n",
    "  \n",
    "- 41.086 a 46.997: ordenats per nota\n",
    "- 46.998 a 59.642: ordenats per id... (= created_at probably)\n",
    "\n",
    "\n",
    "Not Ranked <--> Hentai or Erotica (92349 was temporally wrong (not ranked), as it was in not_yet_aired, the only one)\n",
    "\n",
    "nsfw is a bit weirder"
   ]
  },
  {
   "cell_type": "markdown",
   "metadata": {},
   "source": [
    "# Load Manga"
   ]
  },
  {
   "cell_type": "code",
   "execution_count": 9,
   "metadata": {},
   "outputs": [
    {
     "data": {
      "text/html": [
       "<div>\n",
       "<style scoped>\n",
       "    .dataframe tbody tr th:only-of-type {\n",
       "        vertical-align: middle;\n",
       "    }\n",
       "\n",
       "    .dataframe tbody tr th {\n",
       "        vertical-align: top;\n",
       "    }\n",
       "\n",
       "    .dataframe thead th {\n",
       "        text-align: right;\n",
       "    }\n",
       "</style>\n",
       "<table border=\"1\" class=\"dataframe\">\n",
       "  <thead>\n",
       "    <tr style=\"text-align: right;\">\n",
       "      <th></th>\n",
       "      <th>id</th>\n",
       "      <th>title</th>\n",
       "      <th>media_type</th>\n",
       "      <th>mean</th>\n",
       "      <th>num_scoring_users</th>\n",
       "      <th>status</th>\n",
       "      <th>num_volumes</th>\n",
       "      <th>num_chapters</th>\n",
       "      <th>start_date</th>\n",
       "      <th>end_date</th>\n",
       "      <th>num_list_users</th>\n",
       "      <th>popularity</th>\n",
       "      <th>num_favorites</th>\n",
       "      <th>rank</th>\n",
       "      <th>genres</th>\n",
       "      <th>authors</th>\n",
       "      <th>synopsis</th>\n",
       "      <th>nsfw</th>\n",
       "      <th>created_at</th>\n",
       "      <th>updated_at</th>\n",
       "      <th>main_picture_medium</th>\n",
       "      <th>main_picture_large</th>\n",
       "      <th>alternative_titles_en</th>\n",
       "      <th>alternative_titles_ja</th>\n",
       "      <th>alternative_titles_synonyms</th>\n",
       "    </tr>\n",
       "  </thead>\n",
       "  <tbody>\n",
       "    <tr>\n",
       "      <th>0</th>\n",
       "      <td>23390</td>\n",
       "      <td>Shingeki no Kyojin</td>\n",
       "      <td>manga</td>\n",
       "      <td>8.57</td>\n",
       "      <td>361834</td>\n",
       "      <td>finished</td>\n",
       "      <td>34</td>\n",
       "      <td>141</td>\n",
       "      <td>2009-09-09</td>\n",
       "      <td>2021-04-09</td>\n",
       "      <td>588155</td>\n",
       "      <td>1</td>\n",
       "      <td>66856</td>\n",
       "      <td>87</td>\n",
       "      <td>[Action, Award Winning, Drama, Gore, Military,...</td>\n",
       "      <td>[Isayama, Hajime (Story &amp; Art)]</td>\n",
       "      <td>Hundreds of years ago, horrifying creatures wh...</td>\n",
       "      <td>white</td>\n",
       "      <td>1970-01-01 00:00:00+00:00</td>\n",
       "      <td>2022-04-18 05:10:58+00:00</td>\n",
       "      <td>https://api-cdn.myanimelist.net/images/manga/2...</td>\n",
       "      <td>https://api-cdn.myanimelist.net/images/manga/2...</td>\n",
       "      <td>Attack on Titan</td>\n",
       "      <td>進撃の巨人</td>\n",
       "      <td>[]</td>\n",
       "    </tr>\n",
       "  </tbody>\n",
       "</table>\n",
       "</div>"
      ],
      "text/plain": [
       "      id               title media_type  mean  num_scoring_users    status  \\\n",
       "0  23390  Shingeki no Kyojin      manga  8.57             361834  finished   \n",
       "\n",
       "   num_volumes  num_chapters start_date   end_date  num_list_users  \\\n",
       "0           34           141 2009-09-09 2021-04-09          588155   \n",
       "\n",
       "   popularity  num_favorites  rank  \\\n",
       "0           1          66856    87   \n",
       "\n",
       "                                              genres  \\\n",
       "0  [Action, Award Winning, Drama, Gore, Military,...   \n",
       "\n",
       "                           authors  \\\n",
       "0  [Isayama, Hajime (Story & Art)]   \n",
       "\n",
       "                                            synopsis   nsfw  \\\n",
       "0  Hundreds of years ago, horrifying creatures wh...  white   \n",
       "\n",
       "                 created_at                updated_at  \\\n",
       "0 1970-01-01 00:00:00+00:00 2022-04-18 05:10:58+00:00   \n",
       "\n",
       "                                 main_picture_medium  \\\n",
       "0  https://api-cdn.myanimelist.net/images/manga/2...   \n",
       "\n",
       "                                  main_picture_large alternative_titles_en  \\\n",
       "0  https://api-cdn.myanimelist.net/images/manga/2...       Attack on Titan   \n",
       "\n",
       "  alternative_titles_ja alternative_titles_synonyms  \n",
       "0                 進撃の巨人                          []  "
      ]
     },
     "execution_count": 9,
     "metadata": {},
     "output_type": "execute_result"
    }
   ],
   "source": [
    "from ast import literal_eval\n",
    "import pandas as pd\n",
    "\n",
    "manga = pd.read_csv('data/manga.csv')\n",
    "\n",
    "columns_dtype_datetime = ['start_date', 'end_date', 'created_at', 'updated_at']\n",
    "for col in columns_dtype_datetime:\n",
    "    manga[col] = pd.to_datetime(manga[col])\n",
    "\n",
    "columns_dtype_Int64 = ['num_volumes', 'num_chapters', 'popularity', 'rank']\n",
    "for col in columns_dtype_Int64:\n",
    "    manga[col] = manga[col].astype('Int64')\n",
    "\n",
    "columns_dtype_list = ['genres', 'authors', 'alternative_titles_synonyms']\n",
    "for col in columns_dtype_list:\n",
    "    manga[col] = manga[col].apply(literal_eval)\n",
    "\n",
    "pd.options.display.max_columns = None\n",
    "manga.head(1)"
   ]
  },
  {
   "cell_type": "code",
   "execution_count": null,
   "metadata": {},
   "outputs": [],
   "source": []
  }
 ],
 "metadata": {
  "kernelspec": {
   "display_name": "Python 3.10.1 64-bit",
   "language": "python",
   "name": "python3"
  },
  "language_info": {
   "codemirror_mode": {
    "name": "ipython",
    "version": 3
   },
   "file_extension": ".py",
   "mimetype": "text/x-python",
   "name": "python",
   "nbconvert_exporter": "python",
   "pygments_lexer": "ipython3",
   "version": "3.10.1"
  },
  "orig_nbformat": 4,
  "vscode": {
   "interpreter": {
    "hash": "ad2117d8da04c720903da65ba8862d63b2fb82849cd17efbeca69c80f28b43db"
   }
  }
 },
 "nbformat": 4,
 "nbformat_minor": 2
}
