{
 "cells": [
  {
   "cell_type": "markdown",
   "metadata": {},
   "source": [
    "## MAL API Setup"
   ]
  },
  {
   "cell_type": "code",
   "execution_count": 1,
   "metadata": {},
   "outputs": [],
   "source": [
    "import requests\n",
    "\n",
    "api_url = 'https://api.myanimelist.net/v2'\n",
    "\n",
    "# A Client ID is needed (https://myanimelist.net/apiconfig)\n",
    "with open('client_id.txt', 'r') as f:\n",
    "    CLIENT_ID = f.read()\n",
    "\n",
    "headers = {'X-MAL-CLIENT-ID': CLIENT_ID}\n",
    "\n",
    "def get_data(endpoint, params=None):\n",
    "    url = api_url + endpoint\n",
    "    response = requests.get(url, headers=headers, params=params)\n",
    "    response.raise_for_status()\n",
    "    return response.json()"
   ]
  },
  {
   "cell_type": "markdown",
   "metadata": {},
   "source": [
    "## Scrap Anime"
   ]
  },
  {
   "cell_type": "code",
   "execution_count": 2,
   "metadata": {},
   "outputs": [],
   "source": [
    "import json\n",
    "import os\n",
    "\n",
    "scraping_save_pages = 'data/data_tmp/anime_pages'\n",
    "\n",
    "if not os.path.exists(scraping_save_pages): # Create saving directory if it doesn't exist\n",
    "  os.makedirs(scraping_save_pages)\n",
    "\n",
    "endpoint = f'/anime/ranking'\n",
    "limit = 500\n",
    "\n",
    "anime_keys = ['id', 'title', 'main_picture', 'alternative_titles', 'start_date', 'end_date', 'synopsis', 'mean', 'rank', 'popularity',\n",
    "              'num_list_users', 'num_scoring_users', 'num_favorites', 'nsfw', 'genres', 'created_at', 'updated_at', 'media_type', 'status',\n",
    "              'num_episodes', 'start_season', 'broadcast', 'source', 'average_episode_duration', 'rating', 'studios']\n",
    "\n",
    "def scrape_page(page):\n",
    "    params = {'ranking_type': 'bypopularity', 'limit': limit, 'offset': page*limit, 'fields': ','.join(anime_keys)}\n",
    "    data = get_data(endpoint, params)\n",
    "    useful = [anime['node'] for anime in data['data']]\n",
    "    with open(scraping_save_pages + f'/page{str(page).zfill(2)}.json', 'w') as f:\n",
    "        json.dump(useful, f, indent=4)"
   ]
  },
  {
   "cell_type": "code",
   "execution_count": 3,
   "metadata": {},
   "outputs": [
    {
     "data": {
      "text/plain": [
       "41"
      ]
     },
     "execution_count": 3,
     "metadata": {},
     "output_type": "execute_result"
    }
   ],
   "source": [
    "import math\n",
    "\n",
    "# 3 July 2022\n",
    "previous_total_anime = 20_602\n",
    "previous_last_page = math.ceil(previous_total_anime / limit) - 1\n",
    "\n",
    "data = get_data(endpoint, {'ranking_type': 'bypopularity', 'limit': limit, 'offset': previous_last_page*limit, 'fields': ','.join(anime_keys)})\n",
    "assert len(data['data']) > 0\n",
    "assert 'next' not in data['paging']\n",
    "\n",
    "last_page = previous_last_page\n",
    "\n",
    "last_page"
   ]
  },
  {
   "cell_type": "code",
   "execution_count": 4,
   "metadata": {},
   "outputs": [
    {
     "name": "stderr",
     "output_type": "stream",
     "text": [
      "100%|██████████| 42/42 [02:48<00:00,  4.02s/it]\n"
     ]
    }
   ],
   "source": [
    "import tqdm\n",
    "import time\n",
    "\n",
    "for page in tqdm.trange(last_page+1):\n",
    "    scrape_page(page)\n",
    "    time.sleep(1)"
   ]
  },
  {
   "cell_type": "markdown",
   "metadata": {},
   "source": [
    "## Merge Files"
   ]
  },
  {
   "cell_type": "code",
   "execution_count": 5,
   "metadata": {},
   "outputs": [
    {
     "data": {
      "text/plain": [
       "20602"
      ]
     },
     "execution_count": 5,
     "metadata": {},
     "output_type": "execute_result"
    }
   ],
   "source": [
    "import os\n",
    "\n",
    "scraping_save_pages = 'data/data_tmp/anime_pages'\n",
    "\n",
    "data = []\n",
    "for file_name in os.listdir(scraping_save_pages):\n",
    "    file_path = os.path.join(scraping_save_pages, file_name)\n",
    "    with open(file_path, 'r') as f:\n",
    "        file = json.load(f)\n",
    "    data.extend(file)\n",
    "\n",
    "len(data)"
   ]
  },
  {
   "cell_type": "code",
   "execution_count": 6,
   "metadata": {},
   "outputs": [],
   "source": [
    "with open('data/data_tmp/anime_raw.json', 'w') as f:\n",
    "    json.dump(data, f, indent=4)"
   ]
  },
  {
   "cell_type": "markdown",
   "metadata": {},
   "source": [
    "## Anime Cleaning"
   ]
  },
  {
   "cell_type": "code",
   "execution_count": 13,
   "metadata": {},
   "outputs": [
    {
     "data": {
      "text/html": [
       "<div>\n",
       "<style scoped>\n",
       "    .dataframe tbody tr th:only-of-type {\n",
       "        vertical-align: middle;\n",
       "    }\n",
       "\n",
       "    .dataframe tbody tr th {\n",
       "        vertical-align: top;\n",
       "    }\n",
       "\n",
       "    .dataframe thead th {\n",
       "        text-align: right;\n",
       "    }\n",
       "</style>\n",
       "<table border=\"1\" class=\"dataframe\">\n",
       "  <thead>\n",
       "    <tr style=\"text-align: right;\">\n",
       "      <th></th>\n",
       "      <th>id</th>\n",
       "      <th>title</th>\n",
       "      <th>media_type</th>\n",
       "      <th>mean</th>\n",
       "      <th>num_scoring_users</th>\n",
       "      <th>status</th>\n",
       "      <th>num_episodes</th>\n",
       "      <th>start_date</th>\n",
       "      <th>end_date</th>\n",
       "      <th>source</th>\n",
       "      <th>num_list_users</th>\n",
       "      <th>popularity</th>\n",
       "      <th>num_favorites</th>\n",
       "      <th>rank</th>\n",
       "      <th>average_episode_duration</th>\n",
       "      <th>rating</th>\n",
       "      <th>start_season_year</th>\n",
       "      <th>start_season_season</th>\n",
       "      <th>broadcast_day_of_the_week</th>\n",
       "      <th>broadcast_start_time</th>\n",
       "      <th>genres</th>\n",
       "      <th>studios</th>\n",
       "      <th>synopsis</th>\n",
       "      <th>nsfw</th>\n",
       "      <th>created_at</th>\n",
       "      <th>updated_at</th>\n",
       "      <th>main_picture_medium</th>\n",
       "      <th>main_picture_large</th>\n",
       "      <th>alternative_titles_en</th>\n",
       "      <th>alternative_titles_ja</th>\n",
       "      <th>alternative_titles_synonyms</th>\n",
       "    </tr>\n",
       "  </thead>\n",
       "  <tbody>\n",
       "    <tr>\n",
       "      <th>0</th>\n",
       "      <td>16498</td>\n",
       "      <td>Shingeki no Kyojin</td>\n",
       "      <td>tv</td>\n",
       "      <td>8.53</td>\n",
       "      <td>2469488</td>\n",
       "      <td>finished_airing</td>\n",
       "      <td>25</td>\n",
       "      <td>2013-04-07</td>\n",
       "      <td>2013-09-29</td>\n",
       "      <td>manga</td>\n",
       "      <td>3452617</td>\n",
       "      <td>1</td>\n",
       "      <td>153103</td>\n",
       "      <td>103</td>\n",
       "      <td>0 days 00:24:00</td>\n",
       "      <td>r</td>\n",
       "      <td>2013</td>\n",
       "      <td>spring</td>\n",
       "      <td>sunday</td>\n",
       "      <td>01:58:00</td>\n",
       "      <td>[Action, Drama, Gore, Military, Shounen, Survi...</td>\n",
       "      <td>[Wit Studio]</td>\n",
       "      <td>Centuries ago, mankind was slaughtered to near...</td>\n",
       "      <td>white</td>\n",
       "      <td>2012-12-05 12:03:21+00:00</td>\n",
       "      <td>2022-04-18 05:00:25+00:00</td>\n",
       "      <td>https://api-cdn.myanimelist.net/images/anime/1...</td>\n",
       "      <td>https://api-cdn.myanimelist.net/images/anime/1...</td>\n",
       "      <td>Attack on Titan</td>\n",
       "      <td>進撃の巨人</td>\n",
       "      <td>[AoT, SnK]</td>\n",
       "    </tr>\n",
       "  </tbody>\n",
       "</table>\n",
       "</div>"
      ],
      "text/plain": [
       "      id               title media_type  mean  num_scoring_users  \\\n",
       "0  16498  Shingeki no Kyojin         tv  8.53            2469488   \n",
       "\n",
       "            status  num_episodes start_date   end_date source  num_list_users  \\\n",
       "0  finished_airing            25 2013-04-07 2013-09-29  manga         3452617   \n",
       "\n",
       "   popularity  num_favorites  rank average_episode_duration rating  \\\n",
       "0           1         153103   103          0 days 00:24:00      r   \n",
       "\n",
       "   start_season_year start_season_season broadcast_day_of_the_week  \\\n",
       "0               2013              spring                    sunday   \n",
       "\n",
       "  broadcast_start_time                                             genres  \\\n",
       "0             01:58:00  [Action, Drama, Gore, Military, Shounen, Survi...   \n",
       "\n",
       "        studios                                           synopsis   nsfw  \\\n",
       "0  [Wit Studio]  Centuries ago, mankind was slaughtered to near...  white   \n",
       "\n",
       "                 created_at                updated_at  \\\n",
       "0 2012-12-05 12:03:21+00:00 2022-04-18 05:00:25+00:00   \n",
       "\n",
       "                                 main_picture_medium  \\\n",
       "0  https://api-cdn.myanimelist.net/images/anime/1...   \n",
       "\n",
       "                                  main_picture_large alternative_titles_en  \\\n",
       "0  https://api-cdn.myanimelist.net/images/anime/1...       Attack on Titan   \n",
       "\n",
       "  alternative_titles_ja alternative_titles_synonyms  \n",
       "0                 進撃の巨人                  [AoT, SnK]  "
      ]
     },
     "execution_count": 13,
     "metadata": {},
     "output_type": "execute_result"
    }
   ],
   "source": [
    "import pandas as pd\n",
    "import numpy as np\n",
    "import json\n",
    "\n",
    "with open('data/data_tmp/anime_raw.json', 'r') as f:\n",
    "    data = json.load(f)\n",
    "\n",
    "anime = pd.json_normalize(data, sep='_')\n",
    "\n",
    "# Use Timestamps\n",
    "anime['start_date'] = pd.to_datetime(anime['start_date'])\n",
    "anime['end_date'] = pd.to_datetime(anime['end_date'])\n",
    "\n",
    "# Avoid false zeroes and unnecessary floats\n",
    "anime['num_episodes'] = anime['num_episodes'].replace(0, np.nan).astype('Int64')\n",
    "anime['rank'] = anime['rank'].astype('Int64')\n",
    "\n",
    "# Use Timedelta\n",
    "anime['average_episode_duration'] = pd.to_timedelta(anime['average_episode_duration'].replace(0, np.nan), unit='s')\n",
    "\n",
    "# Avoid floats, as time\n",
    "anime['start_season_year'] = anime['start_season_year'].astype('Int64')\n",
    "anime['broadcast_start_time'] = pd.to_datetime(anime['broadcast_start_time']).dt.time\n",
    "\n",
    "# Only keep names\n",
    "anime['genres'] = anime['genres'].apply(lambda x: [dic['name'] for dic in x] if not x is np.nan else [])\n",
    "anime['studios'] = anime['studios'].apply(lambda x: [dic['name'] for dic in x] if not x is np.nan else [])\n",
    "\n",
    "# MyAnimeList edits\n",
    "anime['created_at'] = pd.to_datetime(anime['created_at'])\n",
    "anime['updated_at'] = pd.to_datetime(anime['updated_at'])\n",
    "\n",
    "# Avoid empty string\n",
    "anime['synopsis'] = anime['synopsis'].replace('', np.nan)\n",
    "anime['alternative_titles_en'] = anime['alternative_titles_en'].replace('', np.nan)\n",
    "anime['alternative_titles_ja'] = anime['alternative_titles_ja'].replace('', np.nan)\n",
    "                      \n",
    "\n",
    "order = ['id', 'title', 'media_type', 'mean', 'num_scoring_users',                          # 10 Most important attributes, \n",
    "         'status', 'num_episodes', 'start_date', 'end_date', 'source',                      # appearing first on kaggle\n",
    "\n",
    "         'num_list_users', 'popularity', 'num_favorites', 'rank',                           # Other important\n",
    "         'average_episode_duration', 'rating', 'start_season_year',                         # attributes\n",
    "         'start_season_season', 'broadcast_day_of_the_week', 'broadcast_start_time',   \n",
    "\n",
    "         'genres', 'studios',                                                               # Multivalued attributes\n",
    "         'synopsis', 'nsfw', 'created_at', 'updated_at',                                    # Description, MyAnimeList edits\n",
    "         \n",
    "         'main_picture_medium', 'main_picture_large',                                       # Media data\n",
    "         'alternative_titles_en', 'alternative_titles_ja', 'alternative_titles_synonyms']   # Other titles\n",
    "\n",
    "\n",
    "anime = anime[order]\n",
    "\n",
    "# Save to csv\n",
    "anime.to_csv('data/anime.csv', index=False)\n",
    "\n",
    "pd.options.display.max_columns = None\n",
    "anime.head(1)"
   ]
  },
  {
   "cell_type": "code",
   "execution_count": 15,
   "metadata": {},
   "outputs": [
    {
     "data": {
      "text/plain": [
       "(20602, 31)"
      ]
     },
     "execution_count": 15,
     "metadata": {},
     "output_type": "execute_result"
    }
   ],
   "source": [
    "anime.shape"
   ]
  },
  {
   "cell_type": "markdown",
   "metadata": {},
   "source": [
    "## Load Anime"
   ]
  },
  {
   "cell_type": "code",
   "execution_count": 19,
   "metadata": {},
   "outputs": [
    {
     "data": {
      "text/html": [
       "<div>\n",
       "<style scoped>\n",
       "    .dataframe tbody tr th:only-of-type {\n",
       "        vertical-align: middle;\n",
       "    }\n",
       "\n",
       "    .dataframe tbody tr th {\n",
       "        vertical-align: top;\n",
       "    }\n",
       "\n",
       "    .dataframe thead th {\n",
       "        text-align: right;\n",
       "    }\n",
       "</style>\n",
       "<table border=\"1\" class=\"dataframe\">\n",
       "  <thead>\n",
       "    <tr style=\"text-align: right;\">\n",
       "      <th></th>\n",
       "      <th>id</th>\n",
       "      <th>title</th>\n",
       "      <th>media_type</th>\n",
       "      <th>mean</th>\n",
       "      <th>num_scoring_users</th>\n",
       "      <th>status</th>\n",
       "      <th>num_episodes</th>\n",
       "      <th>start_date</th>\n",
       "      <th>end_date</th>\n",
       "      <th>source</th>\n",
       "      <th>num_list_users</th>\n",
       "      <th>popularity</th>\n",
       "      <th>num_favorites</th>\n",
       "      <th>rank</th>\n",
       "      <th>average_episode_duration</th>\n",
       "      <th>rating</th>\n",
       "      <th>start_season_year</th>\n",
       "      <th>start_season_season</th>\n",
       "      <th>broadcast_day_of_the_week</th>\n",
       "      <th>broadcast_start_time</th>\n",
       "      <th>genres</th>\n",
       "      <th>studios</th>\n",
       "      <th>synopsis</th>\n",
       "      <th>nsfw</th>\n",
       "      <th>created_at</th>\n",
       "      <th>updated_at</th>\n",
       "      <th>main_picture_medium</th>\n",
       "      <th>main_picture_large</th>\n",
       "      <th>alternative_titles_en</th>\n",
       "      <th>alternative_titles_ja</th>\n",
       "      <th>alternative_titles_synonyms</th>\n",
       "    </tr>\n",
       "  </thead>\n",
       "  <tbody>\n",
       "    <tr>\n",
       "      <th>0</th>\n",
       "      <td>16498</td>\n",
       "      <td>Shingeki no Kyojin</td>\n",
       "      <td>tv</td>\n",
       "      <td>8.53</td>\n",
       "      <td>2469488</td>\n",
       "      <td>finished_airing</td>\n",
       "      <td>25</td>\n",
       "      <td>2013-04-07</td>\n",
       "      <td>2013-09-29</td>\n",
       "      <td>manga</td>\n",
       "      <td>3452617</td>\n",
       "      <td>1</td>\n",
       "      <td>153103</td>\n",
       "      <td>103</td>\n",
       "      <td>0 days 00:24:00</td>\n",
       "      <td>r</td>\n",
       "      <td>2013</td>\n",
       "      <td>spring</td>\n",
       "      <td>sunday</td>\n",
       "      <td>01:58:00</td>\n",
       "      <td>[Action, Drama, Gore, Military, Shounen, Survi...</td>\n",
       "      <td>[Wit Studio]</td>\n",
       "      <td>Centuries ago, mankind was slaughtered to near...</td>\n",
       "      <td>white</td>\n",
       "      <td>2012-12-05 12:03:21+00:00</td>\n",
       "      <td>2022-04-18 05:00:25+00:00</td>\n",
       "      <td>https://api-cdn.myanimelist.net/images/anime/1...</td>\n",
       "      <td>https://api-cdn.myanimelist.net/images/anime/1...</td>\n",
       "      <td>Attack on Titan</td>\n",
       "      <td>進撃の巨人</td>\n",
       "      <td>[AoT, SnK]</td>\n",
       "    </tr>\n",
       "  </tbody>\n",
       "</table>\n",
       "</div>"
      ],
      "text/plain": [
       "      id               title media_type  mean  num_scoring_users  \\\n",
       "0  16498  Shingeki no Kyojin         tv  8.53            2469488   \n",
       "\n",
       "            status  num_episodes start_date   end_date source  num_list_users  \\\n",
       "0  finished_airing            25 2013-04-07 2013-09-29  manga         3452617   \n",
       "\n",
       "   popularity  num_favorites  rank average_episode_duration rating  \\\n",
       "0           1         153103   103          0 days 00:24:00      r   \n",
       "\n",
       "   start_season_year start_season_season broadcast_day_of_the_week  \\\n",
       "0               2013              spring                    sunday   \n",
       "\n",
       "  broadcast_start_time                                             genres  \\\n",
       "0             01:58:00  [Action, Drama, Gore, Military, Shounen, Survi...   \n",
       "\n",
       "        studios                                           synopsis   nsfw  \\\n",
       "0  [Wit Studio]  Centuries ago, mankind was slaughtered to near...  white   \n",
       "\n",
       "                 created_at                updated_at  \\\n",
       "0 2012-12-05 12:03:21+00:00 2022-04-18 05:00:25+00:00   \n",
       "\n",
       "                                 main_picture_medium  \\\n",
       "0  https://api-cdn.myanimelist.net/images/anime/1...   \n",
       "\n",
       "                                  main_picture_large alternative_titles_en  \\\n",
       "0  https://api-cdn.myanimelist.net/images/anime/1...       Attack on Titan   \n",
       "\n",
       "  alternative_titles_ja alternative_titles_synonyms  \n",
       "0                 進撃の巨人                  [AoT, SnK]  "
      ]
     },
     "execution_count": 19,
     "metadata": {},
     "output_type": "execute_result"
    }
   ],
   "source": [
    "from ast import literal_eval\n",
    "import pandas as pd\n",
    "\n",
    "anime = pd.read_csv('data/anime.csv')\n",
    "\n",
    "columns_dtype_datetime = ['start_date', 'end_date', 'created_at', 'updated_at']\n",
    "for col in columns_dtype_datetime:\n",
    "    anime[col] = pd.to_datetime(anime[col])\n",
    "\n",
    "columns_dtype_Int64 = ['num_episodes', 'popularity', 'rank', 'start_season_year']\n",
    "for col in columns_dtype_Int64:\n",
    "    anime[col] = anime[col].astype('Int64')\n",
    "\n",
    "columns_dtype_list = ['genres', 'studios', 'alternative_titles_synonyms']\n",
    "for col in columns_dtype_list:\n",
    "    anime[col] = anime[col].apply(literal_eval)\n",
    "\n",
    "anime['broadcast_start_time'] = pd.to_datetime(anime['broadcast_start_time']).dt.time   # Time of day\n",
    "\n",
    "anime['average_episode_duration'] = pd.to_timedelta(anime['average_episode_duration'])  # Duration\n",
    "\n",
    "anime.head(1)"
   ]
  },
  {
   "cell_type": "code",
   "execution_count": null,
   "metadata": {},
   "outputs": [],
   "source": []
  }
 ],
 "metadata": {
  "kernelspec": {
   "display_name": "Python 3.10.1 64-bit",
   "language": "python",
   "name": "python3"
  },
  "language_info": {
   "codemirror_mode": {
    "name": "ipython",
    "version": 3
   },
   "file_extension": ".py",
   "mimetype": "text/x-python",
   "name": "python",
   "nbconvert_exporter": "python",
   "pygments_lexer": "ipython3",
   "version": "3.10.1"
  },
  "orig_nbformat": 4,
  "vscode": {
   "interpreter": {
    "hash": "ad2117d8da04c720903da65ba8862d63b2fb82849cd17efbeca69c80f28b43db"
   }
  }
 },
 "nbformat": 4,
 "nbformat_minor": 2
}
