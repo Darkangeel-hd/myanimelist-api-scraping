{
 "cells": [
  {
   "cell_type": "markdown",
   "metadata": {},
   "source": [
    "## Anime Merge"
   ]
  },
  {
   "cell_type": "code",
   "execution_count": 1,
   "metadata": {},
   "outputs": [],
   "source": [
    "iguals = ['anime_id', 'title', 'score', 'episodes', 'start_date', 'end_date', 'members', 'favorites', 'sfw', 'approved', 'real_start_date', \\\n",
    "    'real_end_date', 'genres', 'themes', 'demographics', 'studios', 'main_picture', 'title_english', 'title_japanese']\n",
    "\n",
    "mal_millor = ['scored_by', 'episode_duration', 'start_year', 'start_season', 'broadcast_time', 'synopsis', 'title_synonyms']\n",
    "\n",
    "mal_extra = ['total_duration', 'created_at', 'updated_at']\n",
    "\n",
    "formatted_strings = ['type', 'status', 'source', 'rating', 'broadcast_day']\n",
    "\n",
    "jikan_extra = ['producers', 'licensors', 'background', 'url', 'trailer_url']"
   ]
  },
  {
   "cell_type": "code",
   "execution_count": 2,
   "metadata": {},
   "outputs": [
    {
     "name": "stdout",
     "output_type": "stream",
     "text": [
      "(24165, 39)\n"
     ]
    },
    {
     "data": {
      "text/html": [
       "<div>\n",
       "<style scoped>\n",
       "    .dataframe tbody tr th:only-of-type {\n",
       "        vertical-align: middle;\n",
       "    }\n",
       "\n",
       "    .dataframe tbody tr th {\n",
       "        vertical-align: top;\n",
       "    }\n",
       "\n",
       "    .dataframe thead th {\n",
       "        text-align: right;\n",
       "    }\n",
       "</style>\n",
       "<table border=\"1\" class=\"dataframe\">\n",
       "  <thead>\n",
       "    <tr style=\"text-align: right;\">\n",
       "      <th></th>\n",
       "      <th>anime_id</th>\n",
       "      <th>title</th>\n",
       "      <th>type</th>\n",
       "      <th>score</th>\n",
       "      <th>scored_by</th>\n",
       "      <th>status</th>\n",
       "      <th>episodes</th>\n",
       "      <th>start_date</th>\n",
       "      <th>end_date</th>\n",
       "      <th>source</th>\n",
       "      <th>members</th>\n",
       "      <th>favorites</th>\n",
       "      <th>episode_duration</th>\n",
       "      <th>total_duration</th>\n",
       "      <th>rating</th>\n",
       "      <th>sfw</th>\n",
       "      <th>approved</th>\n",
       "      <th>created_at</th>\n",
       "      <th>updated_at</th>\n",
       "      <th>start_year</th>\n",
       "      <th>start_season</th>\n",
       "      <th>real_start_date</th>\n",
       "      <th>real_end_date</th>\n",
       "      <th>broadcast_day</th>\n",
       "      <th>broadcast_time</th>\n",
       "      <th>genres</th>\n",
       "      <th>themes</th>\n",
       "      <th>demographics</th>\n",
       "      <th>studios</th>\n",
       "      <th>producers</th>\n",
       "      <th>licensors</th>\n",
       "      <th>synopsis</th>\n",
       "      <th>background</th>\n",
       "      <th>main_picture</th>\n",
       "      <th>url</th>\n",
       "      <th>trailer_url</th>\n",
       "      <th>title_english</th>\n",
       "      <th>title_japanese</th>\n",
       "      <th>title_synonyms</th>\n",
       "    </tr>\n",
       "  </thead>\n",
       "  <tbody>\n",
       "    <tr>\n",
       "      <th>0</th>\n",
       "      <td>5114</td>\n",
       "      <td>Fullmetal Alchemist: Brotherhood</td>\n",
       "      <td>tv</td>\n",
       "      <td>9.13</td>\n",
       "      <td>1871705</td>\n",
       "      <td>finished_airing</td>\n",
       "      <td>64</td>\n",
       "      <td>2009-04-05</td>\n",
       "      <td>2010-07-04</td>\n",
       "      <td>manga</td>\n",
       "      <td>2932347</td>\n",
       "      <td>204645</td>\n",
       "      <td>0 days 00:24:20</td>\n",
       "      <td>1 days 01:57:20</td>\n",
       "      <td>r</td>\n",
       "      <td>True</td>\n",
       "      <td>True</td>\n",
       "      <td>2008-08-21 03:35:22+00:00</td>\n",
       "      <td>2022-04-18 05:06:13+00:00</td>\n",
       "      <td>2009</td>\n",
       "      <td>spring</td>\n",
       "      <td>2009-04-05</td>\n",
       "      <td>2010-07-04</td>\n",
       "      <td>sunday</td>\n",
       "      <td>17:00:00</td>\n",
       "      <td>[Action, Adventure, Drama, Fantasy]</td>\n",
       "      <td>[Military]</td>\n",
       "      <td>[Shounen]</td>\n",
       "      <td>[Bones]</td>\n",
       "      <td>[Aniplex, Square Enix, Mainichi Broadcasting S...</td>\n",
       "      <td>[Funimation, Aniplex of America]</td>\n",
       "      <td>After a horrific alchemy experiment goes wrong...</td>\n",
       "      <td>NaN</td>\n",
       "      <td>https://cdn.myanimelist.net/images/anime/1223/...</td>\n",
       "      <td>https://myanimelist.net/anime/5114/Fullmetal_A...</td>\n",
       "      <td>https://www.youtube.com/watch?v=--IcmZkvL0Q</td>\n",
       "      <td>Fullmetal Alchemist: Brotherhood</td>\n",
       "      <td>鋼の錬金術師 FULLMETAL ALCHEMIST</td>\n",
       "      <td>[Hagane no Renkinjutsushi: Fullmetal Alchemist...</td>\n",
       "    </tr>\n",
       "  </tbody>\n",
       "</table>\n",
       "</div>"
      ],
      "text/plain": [
       "   anime_id                             title type  score  scored_by  \\\n",
       "0      5114  Fullmetal Alchemist: Brotherhood   tv   9.13    1871705   \n",
       "\n",
       "            status  episodes start_date   end_date source  members  favorites  \\\n",
       "0  finished_airing        64 2009-04-05 2010-07-04  manga  2932347     204645   \n",
       "\n",
       "  episode_duration   total_duration rating   sfw  approved  \\\n",
       "0  0 days 00:24:20  1 days 01:57:20      r  True      True   \n",
       "\n",
       "                 created_at                updated_at  start_year  \\\n",
       "0 2008-08-21 03:35:22+00:00 2022-04-18 05:06:13+00:00        2009   \n",
       "\n",
       "  start_season real_start_date real_end_date broadcast_day broadcast_time  \\\n",
       "0       spring      2009-04-05    2010-07-04        sunday       17:00:00   \n",
       "\n",
       "                                genres      themes demographics  studios  \\\n",
       "0  [Action, Adventure, Drama, Fantasy]  [Military]    [Shounen]  [Bones]   \n",
       "\n",
       "                                           producers  \\\n",
       "0  [Aniplex, Square Enix, Mainichi Broadcasting S...   \n",
       "\n",
       "                          licensors  \\\n",
       "0  [Funimation, Aniplex of America]   \n",
       "\n",
       "                                            synopsis background  \\\n",
       "0  After a horrific alchemy experiment goes wrong...        NaN   \n",
       "\n",
       "                                        main_picture  \\\n",
       "0  https://cdn.myanimelist.net/images/anime/1223/...   \n",
       "\n",
       "                                                 url  \\\n",
       "0  https://myanimelist.net/anime/5114/Fullmetal_A...   \n",
       "\n",
       "                                   trailer_url  \\\n",
       "0  https://www.youtube.com/watch?v=--IcmZkvL0Q   \n",
       "\n",
       "                      title_english              title_japanese  \\\n",
       "0  Fullmetal Alchemist: Brotherhood  鋼の錬金術師 FULLMETAL ALCHEMIST   \n",
       "\n",
       "                                      title_synonyms  \n",
       "0  [Hagane no Renkinjutsushi: Fullmetal Alchemist...  "
      ]
     },
     "execution_count": 2,
     "metadata": {},
     "output_type": "execute_result"
    }
   ],
   "source": [
    "import pandas as pd\n",
    "import ast\n",
    "\n",
    "mal = pd.read_csv('data/anime_mal.csv')\n",
    "jikan = pd.read_csv('data/anime_jikan.csv')\n",
    "\n",
    "anime = pd.merge(mal[iguals + mal_millor + mal_extra + formatted_strings], jikan[['anime_id'] + jikan_extra], on='anime_id')\n",
    "\n",
    "order = ['anime_id', 'title', 'type', 'score', 'scored_by', 'status', 'episodes', 'start_date', 'end_date', 'source',\n",
    "         'members', 'favorites', 'episode_duration', 'total_duration', 'rating', 'sfw', 'approved', 'created_at', 'updated_at',\n",
    "         'start_year', 'start_season', 'real_start_date', 'real_end_date', 'broadcast_day', 'broadcast_time',\n",
    "         'genres', 'themes', 'demographics', 'studios', 'producers', 'licensors', 'synopsis', 'background',\n",
    "         'main_picture', 'url', 'trailer_url', 'title_english', 'title_japanese', 'title_synonyms']\n",
    "\n",
    "anime = anime[order]\n",
    "\n",
    "for col in ['start_date', 'end_date', 'created_at', 'updated_at']:\n",
    "    anime[col] = pd.to_datetime(anime[col])\n",
    "\n",
    "for col in ['episodes', 'start_year']:\n",
    "    anime[col] = anime[col].astype('Int64')\n",
    "\n",
    "for col in ['genres', 'themes', 'demographics', 'studios', 'producers', 'licensors', 'title_synonyms']:\n",
    "    anime[col] = anime[col].apply(ast.literal_eval)\n",
    "\n",
    "anime['broadcast_time'] = pd.to_datetime(anime['broadcast_time']).dt.time\n",
    "\n",
    "anime['episode_duration'] = pd.to_timedelta(anime['episode_duration'])\n",
    "\n",
    "print(anime.shape)\n",
    "\n",
    "anime.to_csv('data/anime.csv', index=False)\n",
    "\n",
    "pd.options.display.max_columns = None\n",
    "anime.head(1)"
   ]
  },
  {
   "cell_type": "markdown",
   "metadata": {},
   "source": [
    "## Load Data"
   ]
  },
  {
   "cell_type": "code",
   "execution_count": 3,
   "metadata": {},
   "outputs": [
    {
     "data": {
      "text/html": [
       "<div>\n",
       "<style scoped>\n",
       "    .dataframe tbody tr th:only-of-type {\n",
       "        vertical-align: middle;\n",
       "    }\n",
       "\n",
       "    .dataframe tbody tr th {\n",
       "        vertical-align: top;\n",
       "    }\n",
       "\n",
       "    .dataframe thead th {\n",
       "        text-align: right;\n",
       "    }\n",
       "</style>\n",
       "<table border=\"1\" class=\"dataframe\">\n",
       "  <thead>\n",
       "    <tr style=\"text-align: right;\">\n",
       "      <th></th>\n",
       "      <th>anime_id</th>\n",
       "      <th>title</th>\n",
       "      <th>type</th>\n",
       "      <th>score</th>\n",
       "      <th>scored_by</th>\n",
       "      <th>status</th>\n",
       "      <th>episodes</th>\n",
       "      <th>start_date</th>\n",
       "      <th>end_date</th>\n",
       "      <th>source</th>\n",
       "      <th>members</th>\n",
       "      <th>favorites</th>\n",
       "      <th>episode_duration</th>\n",
       "      <th>total_duration</th>\n",
       "      <th>rating</th>\n",
       "      <th>sfw</th>\n",
       "      <th>approved</th>\n",
       "      <th>created_at</th>\n",
       "      <th>updated_at</th>\n",
       "      <th>start_year</th>\n",
       "      <th>start_season</th>\n",
       "      <th>real_start_date</th>\n",
       "      <th>real_end_date</th>\n",
       "      <th>broadcast_day</th>\n",
       "      <th>broadcast_time</th>\n",
       "      <th>genres</th>\n",
       "      <th>themes</th>\n",
       "      <th>demographics</th>\n",
       "      <th>studios</th>\n",
       "      <th>producers</th>\n",
       "      <th>licensors</th>\n",
       "      <th>synopsis</th>\n",
       "      <th>background</th>\n",
       "      <th>main_picture</th>\n",
       "      <th>url</th>\n",
       "      <th>trailer_url</th>\n",
       "      <th>title_english</th>\n",
       "      <th>title_japanese</th>\n",
       "      <th>title_synonyms</th>\n",
       "    </tr>\n",
       "  </thead>\n",
       "  <tbody>\n",
       "    <tr>\n",
       "      <th>0</th>\n",
       "      <td>5114</td>\n",
       "      <td>Fullmetal Alchemist: Brotherhood</td>\n",
       "      <td>tv</td>\n",
       "      <td>9.13</td>\n",
       "      <td>1871705</td>\n",
       "      <td>finished_airing</td>\n",
       "      <td>64</td>\n",
       "      <td>2009-04-05</td>\n",
       "      <td>2010-07-04</td>\n",
       "      <td>manga</td>\n",
       "      <td>2932347</td>\n",
       "      <td>204645</td>\n",
       "      <td>0 days 00:24:20</td>\n",
       "      <td>1 days 01:57:20</td>\n",
       "      <td>r</td>\n",
       "      <td>True</td>\n",
       "      <td>True</td>\n",
       "      <td>2008-08-21 03:35:22+00:00</td>\n",
       "      <td>2022-04-18 05:06:13+00:00</td>\n",
       "      <td>2009</td>\n",
       "      <td>spring</td>\n",
       "      <td>2009-04-05</td>\n",
       "      <td>2010-07-04</td>\n",
       "      <td>sunday</td>\n",
       "      <td>17:00:00</td>\n",
       "      <td>[Action, Adventure, Drama, Fantasy]</td>\n",
       "      <td>[Military]</td>\n",
       "      <td>[Shounen]</td>\n",
       "      <td>[Bones]</td>\n",
       "      <td>[Aniplex, Square Enix, Mainichi Broadcasting S...</td>\n",
       "      <td>[Funimation, Aniplex of America]</td>\n",
       "      <td>After a horrific alchemy experiment goes wrong...</td>\n",
       "      <td>NaN</td>\n",
       "      <td>https://cdn.myanimelist.net/images/anime/1223/...</td>\n",
       "      <td>https://myanimelist.net/anime/5114/Fullmetal_A...</td>\n",
       "      <td>https://www.youtube.com/watch?v=--IcmZkvL0Q</td>\n",
       "      <td>Fullmetal Alchemist: Brotherhood</td>\n",
       "      <td>鋼の錬金術師 FULLMETAL ALCHEMIST</td>\n",
       "      <td>[Hagane no Renkinjutsushi: Fullmetal Alchemist...</td>\n",
       "    </tr>\n",
       "  </tbody>\n",
       "</table>\n",
       "</div>"
      ],
      "text/plain": [
       "   anime_id                             title type  score  scored_by  \\\n",
       "0      5114  Fullmetal Alchemist: Brotherhood   tv   9.13    1871705   \n",
       "\n",
       "            status  episodes start_date   end_date source  members  favorites  \\\n",
       "0  finished_airing        64 2009-04-05 2010-07-04  manga  2932347     204645   \n",
       "\n",
       "  episode_duration   total_duration rating   sfw  approved  \\\n",
       "0  0 days 00:24:20  1 days 01:57:20      r  True      True   \n",
       "\n",
       "                 created_at                updated_at  start_year  \\\n",
       "0 2008-08-21 03:35:22+00:00 2022-04-18 05:06:13+00:00        2009   \n",
       "\n",
       "  start_season real_start_date real_end_date broadcast_day broadcast_time  \\\n",
       "0       spring      2009-04-05    2010-07-04        sunday       17:00:00   \n",
       "\n",
       "                                genres      themes demographics  studios  \\\n",
       "0  [Action, Adventure, Drama, Fantasy]  [Military]    [Shounen]  [Bones]   \n",
       "\n",
       "                                           producers  \\\n",
       "0  [Aniplex, Square Enix, Mainichi Broadcasting S...   \n",
       "\n",
       "                          licensors  \\\n",
       "0  [Funimation, Aniplex of America]   \n",
       "\n",
       "                                            synopsis background  \\\n",
       "0  After a horrific alchemy experiment goes wrong...        NaN   \n",
       "\n",
       "                                        main_picture  \\\n",
       "0  https://cdn.myanimelist.net/images/anime/1223/...   \n",
       "\n",
       "                                                 url  \\\n",
       "0  https://myanimelist.net/anime/5114/Fullmetal_A...   \n",
       "\n",
       "                                   trailer_url  \\\n",
       "0  https://www.youtube.com/watch?v=--IcmZkvL0Q   \n",
       "\n",
       "                      title_english              title_japanese  \\\n",
       "0  Fullmetal Alchemist: Brotherhood  鋼の錬金術師 FULLMETAL ALCHEMIST   \n",
       "\n",
       "                                      title_synonyms  \n",
       "0  [Hagane no Renkinjutsushi: Fullmetal Alchemist...  "
      ]
     },
     "execution_count": 3,
     "metadata": {},
     "output_type": "execute_result"
    }
   ],
   "source": [
    "import pandas as pd\n",
    "import ast\n",
    "\n",
    "anime = pd.read_csv('data/anime.csv')\n",
    "\n",
    "for col in ['start_date', 'end_date', 'created_at', 'updated_at']:\n",
    "    anime[col] = pd.to_datetime(anime[col])\n",
    "\n",
    "for col in ['episodes', 'start_year']:\n",
    "    anime[col] = anime[col].astype('Int64')\n",
    "\n",
    "for col in ['genres', 'themes', 'demographics', 'studios', 'producers', 'licensors', 'title_synonyms']:\n",
    "    anime[col] = anime[col].apply(ast.literal_eval)\n",
    "\n",
    "anime['broadcast_time'] = pd.to_datetime(anime['broadcast_time']).dt.time\n",
    "\n",
    "anime['episode_duration'] = pd.to_timedelta(anime['episode_duration'])\n",
    "\n",
    "pd.options.display.max_columns = None\n",
    "anime.head(1)"
   ]
  },
  {
   "cell_type": "markdown",
   "metadata": {},
   "source": [
    "## Differences"
   ]
  },
  {
   "cell_type": "code",
   "execution_count": 7,
   "metadata": {},
   "outputs": [
    {
     "data": {
      "text/plain": [
       "both          24165\n",
       "right_only      530\n",
       "left_only         0\n",
       "Name: _merge, dtype: int64"
      ]
     },
     "execution_count": 7,
     "metadata": {},
     "output_type": "execute_result"
    }
   ],
   "source": [
    "anime_all = pd.merge(mal, jikan, on='anime_id', how='outer', indicator=True)\n",
    "\n",
    "anime_all._merge.value_counts()"
   ]
  },
  {
   "cell_type": "code",
   "execution_count": 24,
   "metadata": {},
   "outputs": [
    {
     "data": {
      "text/plain": [
       "530"
      ]
     },
     "execution_count": 24,
     "metadata": {},
     "output_type": "execute_result"
    }
   ],
   "source": [
    "# Borrats de MyAnimeList\n",
    "deleted = jikan[jikan.anime_id.isin(anime_all[anime_all['_merge']=='right_only'].anime_id)]\n",
    "\n",
    "deleted.shape[0]"
   ]
  },
  {
   "cell_type": "code",
   "execution_count": 25,
   "metadata": {},
   "outputs": [
    {
     "data": {
      "text/plain": [
       "8844"
      ]
     },
     "execution_count": 25,
     "metadata": {},
     "output_type": "execute_result"
    }
   ],
   "source": [
    "# Completament iguals\n",
    "compl_iguals = pd.merge(mal[iguals], jikan[iguals])\n",
    "\n",
    "compl_iguals.shape[0]"
   ]
  },
  {
   "cell_type": "code",
   "execution_count": 19,
   "metadata": {},
   "outputs": [
    {
     "data": {
      "text/plain": [
       "24095"
      ]
     },
     "execution_count": 19,
     "metadata": {},
     "output_type": "execute_result"
    }
   ],
   "source": [
    "# Iguals\n",
    "changing = ['score', 'scored_by', 'members', 'favorites']\n",
    "iguals_not_changing = [col for col in iguals if col not in changing]\n",
    "\n",
    "df_iguals = pd.merge(mal[iguals_not_changing], jikan[iguals_not_changing])\n",
    "df_iguals.shape[0]"
   ]
  },
  {
   "cell_type": "code",
   "execution_count": 35,
   "metadata": {},
   "outputs": [
    {
     "data": {
      "text/plain": [
       "70"
      ]
     },
     "execution_count": 35,
     "metadata": {},
     "output_type": "execute_result"
    }
   ],
   "source": [
    "# Changed\n",
    "\n",
    "anime_both = pd.merge(mal[iguals_not_changing], jikan[iguals_not_changing], how='outer', indicator=True)\n",
    "\n",
    "changed = anime_both[~anime_both.anime_id.isin(deleted.anime_id) & (anime_both['_merge']!='both')] \\\n",
    "    .sort_values(['anime_id', '_merge']).drop(columns=['_merge'])\n",
    "\n",
    "changed.shape[0] // 2"
   ]
  },
  {
   "cell_type": "code",
   "execution_count": 36,
   "metadata": {},
   "outputs": [],
   "source": [
    "import collections as c\n",
    "\n",
    "changes = c.Counter()\n",
    "\n",
    "for i in range(changed.shape[0] // 2):\n",
    "    changed_anime = changed[2*i:2*(i+1)]\n",
    "    first, second = changed_anime.iloc[0], changed_anime.iloc[1]\n",
    "    is_diff_cols = (first!=second) & ~(first.isna() & second.isna())\n",
    "    diff_cols = is_diff_cols[is_diff_cols].index\n",
    "    for col in diff_cols:\n",
    "        changes[col] += 1"
   ]
  },
  {
   "cell_type": "code",
   "execution_count": 37,
   "metadata": {},
   "outputs": [
    {
     "data": {
      "text/plain": [
       "[('studios', 23),\n",
       " ('main_picture', 18),\n",
       " ('end_date', 15),\n",
       " ('real_end_date', 15),\n",
       " ('start_date', 14),\n",
       " ('real_start_date', 14),\n",
       " ('title_japanese', 10),\n",
       " ('approved', 6),\n",
       " ('episodes', 5),\n",
       " ('title', 3),\n",
       " ('genres', 3),\n",
       " ('title_english', 1)]"
      ]
     },
     "execution_count": 37,
     "metadata": {},
     "output_type": "execute_result"
    }
   ],
   "source": [
    "changes.most_common()"
   ]
  },
  {
   "cell_type": "code",
   "execution_count": 33,
   "metadata": {},
   "outputs": [
    {
     "data": {
      "text/html": [
       "<div>\n",
       "<style scoped>\n",
       "    .dataframe tbody tr th:only-of-type {\n",
       "        vertical-align: middle;\n",
       "    }\n",
       "\n",
       "    .dataframe tbody tr th {\n",
       "        vertical-align: top;\n",
       "    }\n",
       "\n",
       "    .dataframe thead th {\n",
       "        text-align: right;\n",
       "    }\n",
       "</style>\n",
       "<table border=\"1\" class=\"dataframe\">\n",
       "  <thead>\n",
       "    <tr style=\"text-align: right;\">\n",
       "      <th></th>\n",
       "      <th>anime_id</th>\n",
       "      <th>title</th>\n",
       "      <th>episodes</th>\n",
       "      <th>start_date</th>\n",
       "      <th>end_date</th>\n",
       "      <th>sfw</th>\n",
       "      <th>approved</th>\n",
       "      <th>real_start_date</th>\n",
       "      <th>real_end_date</th>\n",
       "      <th>genres</th>\n",
       "      <th>themes</th>\n",
       "      <th>demographics</th>\n",
       "      <th>studios</th>\n",
       "      <th>main_picture</th>\n",
       "      <th>title_english</th>\n",
       "      <th>title_japanese</th>\n",
       "      <th>_merge</th>\n",
       "    </tr>\n",
       "  </thead>\n",
       "  <tbody>\n",
       "    <tr>\n",
       "      <th>7786</th>\n",
       "      <td>23</td>\n",
       "      <td>Ring ni Kakero 1</td>\n",
       "      <td>12.0</td>\n",
       "      <td>2004-10-06</td>\n",
       "      <td>2004-12-15</td>\n",
       "      <td>True</td>\n",
       "      <td>True</td>\n",
       "      <td>2004-10-06</td>\n",
       "      <td>2004-12-15</td>\n",
       "      <td>['Action', 'Sports']</td>\n",
       "      <td>['Combat Sports']</td>\n",
       "      <td>['Shounen']</td>\n",
       "      <td>['Toei Animation']</td>\n",
       "      <td>https://cdn.myanimelist.net/images/anime/1146/...</td>\n",
       "      <td>NaN</td>\n",
       "      <td>リングにかけろ１</td>\n",
       "      <td>left_only</td>\n",
       "    </tr>\n",
       "    <tr>\n",
       "      <th>24193</th>\n",
       "      <td>23</td>\n",
       "      <td>Ring ni Kakero 1</td>\n",
       "      <td>12.0</td>\n",
       "      <td>2004-10-06</td>\n",
       "      <td>2004-12-15</td>\n",
       "      <td>True</td>\n",
       "      <td>True</td>\n",
       "      <td>2004-10-06</td>\n",
       "      <td>2004-12-15</td>\n",
       "      <td>['Action', 'Sports']</td>\n",
       "      <td>['Combat Sports']</td>\n",
       "      <td>['Shounen']</td>\n",
       "      <td>['Toei Animation']</td>\n",
       "      <td>https://cdn.myanimelist.net/images/anime/5/534...</td>\n",
       "      <td>NaN</td>\n",
       "      <td>リングにかけろ１</td>\n",
       "      <td>right_only</td>\n",
       "    </tr>\n",
       "  </tbody>\n",
       "</table>\n",
       "</div>"
      ],
      "text/plain": [
       "       anime_id             title  episodes  start_date    end_date   sfw  \\\n",
       "7786         23  Ring ni Kakero 1      12.0  2004-10-06  2004-12-15  True   \n",
       "24193        23  Ring ni Kakero 1      12.0  2004-10-06  2004-12-15  True   \n",
       "\n",
       "       approved real_start_date real_end_date                genres  \\\n",
       "7786       True      2004-10-06    2004-12-15  ['Action', 'Sports']   \n",
       "24193      True      2004-10-06    2004-12-15  ['Action', 'Sports']   \n",
       "\n",
       "                  themes demographics             studios  \\\n",
       "7786   ['Combat Sports']  ['Shounen']  ['Toei Animation']   \n",
       "24193  ['Combat Sports']  ['Shounen']  ['Toei Animation']   \n",
       "\n",
       "                                            main_picture title_english  \\\n",
       "7786   https://cdn.myanimelist.net/images/anime/1146/...           NaN   \n",
       "24193  https://cdn.myanimelist.net/images/anime/5/534...           NaN   \n",
       "\n",
       "      title_japanese      _merge  \n",
       "7786        リングにかけろ１   left_only  \n",
       "24193       リングにかけろ１  right_only  "
      ]
     },
     "execution_count": 33,
     "metadata": {},
     "output_type": "execute_result"
    }
   ],
   "source": [
    "changed.head(2)"
   ]
  },
  {
   "cell_type": "markdown",
   "metadata": {},
   "source": [
    "## Others"
   ]
  },
  {
   "cell_type": "code",
   "execution_count": 32,
   "metadata": {},
   "outputs": [
    {
     "data": {
      "text/plain": [
       "status_x          status_y        \n",
       "currently_airing  Currently Airing      385\n",
       "                  Not yet aired           2\n",
       "finished_airing   Currently Airing        6\n",
       "                  Finished Airing     23156\n",
       "not_yet_aired     Not yet aired         616\n",
       "dtype: int64"
      ]
     },
     "execution_count": 32,
     "metadata": {},
     "output_type": "execute_result"
    }
   ],
   "source": [
    "# Formatted or unformatted????\n",
    "formatted_strings = ['type', 'status', 'source', 'rating', 'broadcast_day']\n",
    "\n",
    "anime_all.groupby(['status_x', 'status_y']).size()"
   ]
  },
  {
   "cell_type": "code",
   "execution_count": null,
   "metadata": {},
   "outputs": [],
   "source": []
  }
 ],
 "metadata": {
  "kernelspec": {
   "display_name": "Python 3.10.1 64-bit",
   "language": "python",
   "name": "python3"
  },
  "language_info": {
   "codemirror_mode": {
    "name": "ipython",
    "version": 3
   },
   "file_extension": ".py",
   "mimetype": "text/x-python",
   "name": "python",
   "nbconvert_exporter": "python",
   "pygments_lexer": "ipython3",
   "version": "3.10.5"
  },
  "orig_nbformat": 4,
  "vscode": {
   "interpreter": {
    "hash": "ad2117d8da04c720903da65ba8862d63b2fb82849cd17efbeca69c80f28b43db"
   }
  }
 },
 "nbformat": 4,
 "nbformat_minor": 2
}
