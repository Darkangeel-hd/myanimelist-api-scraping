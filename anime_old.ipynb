{
 "cells": [
  {
   "cell_type": "markdown",
   "metadata": {},
   "source": [
    "## MAL API Setup"
   ]
  },
  {
   "cell_type": "code",
   "execution_count": 1,
   "metadata": {},
   "outputs": [],
   "source": [
    "import requests\n",
    "\n",
    "api_url = 'https://api.myanimelist.net/v2'\n",
    "\n",
    "# A Client ID is needed (https://myanimelist.net/apiconfig)\n",
    "with open('client_id.txt', 'r') as f:\n",
    "    CLIENT_ID = f.read()\n",
    "\n",
    "headers = {'X-MAL-CLIENT-ID': CLIENT_ID}\n",
    "\n",
    "def get_data(endpoint, params=None):\n",
    "    url = api_url + endpoint\n",
    "    response = requests.get(url, headers=headers, params=params)\n",
    "    response.raise_for_status()\n",
    "    return response.json()"
   ]
  },
  {
   "cell_type": "markdown",
   "metadata": {},
   "source": [
    "## Scrap Anime"
   ]
  },
  {
   "cell_type": "code",
   "execution_count": 9,
   "metadata": {},
   "outputs": [],
   "source": [
    "import json\n",
    "import os\n",
    "\n",
    "scraping_save_pages = 'data/data_tmp/anime_pages'\n",
    "\n",
    "if not os.path.exists(scraping_save_pages): # Create saving directory if it doesn't exist\n",
    "  os.makedirs(scraping_save_pages)\n",
    "\n",
    "endpoint = f'/anime/ranking'\n",
    "limit = 500\n",
    "\n",
    "anime_keys = ['id', 'title', 'main_picture', 'alternative_titles', 'start_date', 'end_date', 'synopsis', 'mean', 'rank', 'popularity',\n",
    "              'num_list_users', 'num_scoring_users', 'num_favorites', 'nsfw', 'genres', 'created_at', 'updated_at', 'media_type', 'status',\n",
    "              'num_episodes', 'start_season', 'broadcast', 'source', 'average_episode_duration', 'rating', 'studios']\n",
    "\n",
    "def scrape_page(page):\n",
    "    params = {'ranking_type': 'bypopularity', 'limit': limit, 'offset': page*limit, 'fields': ','.join(anime_keys)}\n",
    "    data = get_data(endpoint, params)\n",
    "    useful = [anime['node'] for anime in data['data']]\n",
    "    with open(scraping_save_pages + f'/page{str(page).zfill(2)}.json', 'w') as f:\n",
    "        json.dump(useful, f, indent=4)"
   ]
  },
  {
   "cell_type": "code",
   "execution_count": 12,
   "metadata": {},
   "outputs": [
    {
     "data": {
      "text/plain": [
       "41"
      ]
     },
     "execution_count": 12,
     "metadata": {},
     "output_type": "execute_result"
    }
   ],
   "source": [
    "import math\n",
    "\n",
    "# 3 July 2022\n",
    "previous_total_anime = 20_602\n",
    "previous_last_page = math.ceil(previous_total_anime / limit) - 1\n",
    "\n",
    "data = get_data(endpoint, {'ranking_type': 'bypopularity', 'limit': limit, 'offset': previous_last_page*limit, 'fields': ','.join(anime_keys)})\n",
    "assert len(data['data']) > 0\n",
    "assert 'next' not in data['paging']\n",
    "\n",
    "last_page = previous_last_page\n",
    "\n",
    "last_page"
   ]
  },
  {
   "cell_type": "code",
   "execution_count": 4,
   "metadata": {},
   "outputs": [
    {
     "name": "stderr",
     "output_type": "stream",
     "text": [
      "100%|██████████| 42/42 [02:48<00:00,  4.02s/it]\n"
     ]
    }
   ],
   "source": [
    "import tqdm\n",
    "import time\n",
    "\n",
    "for page in tqdm.trange(last_page+1):\n",
    "    scrape_page(page)\n",
    "    time.sleep(1)"
   ]
  },
  {
   "cell_type": "markdown",
   "metadata": {},
   "source": [
    "## Merge Files"
   ]
  },
  {
   "cell_type": "code",
   "execution_count": 5,
   "metadata": {},
   "outputs": [
    {
     "data": {
      "text/plain": [
       "20602"
      ]
     },
     "execution_count": 5,
     "metadata": {},
     "output_type": "execute_result"
    }
   ],
   "source": [
    "import os\n",
    "\n",
    "scraping_save_pages = 'data/data_tmp/anime_pages'\n",
    "\n",
    "data = []\n",
    "for file_name in os.listdir(scraping_save_pages):\n",
    "    file_path = os.path.join(scraping_save_pages, file_name)\n",
    "    with open(file_path, 'r') as f:\n",
    "        file = json.load(f)\n",
    "    data.extend(file)\n",
    "\n",
    "len(data)"
   ]
  },
  {
   "cell_type": "code",
   "execution_count": 6,
   "metadata": {},
   "outputs": [],
   "source": [
    "with open('data/data_tmp/anime_raw.json', 'w') as f:\n",
    "    json.dump(data, f, indent=4)"
   ]
  },
  {
   "cell_type": "markdown",
   "metadata": {},
   "source": [
    "## Anime Cleaning"
   ]
  },
  {
   "cell_type": "code",
   "execution_count": 1,
   "metadata": {},
   "outputs": [
    {
     "data": {
      "text/html": [
       "<div>\n",
       "<style scoped>\n",
       "    .dataframe tbody tr th:only-of-type {\n",
       "        vertical-align: middle;\n",
       "    }\n",
       "\n",
       "    .dataframe tbody tr th {\n",
       "        vertical-align: top;\n",
       "    }\n",
       "\n",
       "    .dataframe thead th {\n",
       "        text-align: right;\n",
       "    }\n",
       "</style>\n",
       "<table border=\"1\" class=\"dataframe\">\n",
       "  <thead>\n",
       "    <tr style=\"text-align: right;\">\n",
       "      <th></th>\n",
       "      <th>id</th>\n",
       "      <th>title</th>\n",
       "      <th>media_type</th>\n",
       "      <th>mean</th>\n",
       "      <th>num_scoring_users</th>\n",
       "      <th>status</th>\n",
       "      <th>num_episodes</th>\n",
       "      <th>start_date</th>\n",
       "      <th>end_date</th>\n",
       "      <th>source</th>\n",
       "      <th>num_list_users</th>\n",
       "      <th>num_favorites</th>\n",
       "      <th>average_episode_duration</th>\n",
       "      <th>rating</th>\n",
       "      <th>start_season_year</th>\n",
       "      <th>start_season_season</th>\n",
       "      <th>broadcast_day_of_the_week</th>\n",
       "      <th>broadcast_start_time</th>\n",
       "      <th>genres</th>\n",
       "      <th>studios</th>\n",
       "      <th>rank</th>\n",
       "      <th>synopsis</th>\n",
       "      <th>nsfw</th>\n",
       "      <th>created_at</th>\n",
       "      <th>updated_at</th>\n",
       "      <th>main_picture_medium</th>\n",
       "      <th>main_picture_large</th>\n",
       "      <th>alternative_titles_en</th>\n",
       "      <th>alternative_titles_ja</th>\n",
       "      <th>alternative_titles_synonyms</th>\n",
       "    </tr>\n",
       "  </thead>\n",
       "  <tbody>\n",
       "    <tr>\n",
       "      <th>0</th>\n",
       "      <td>16498</td>\n",
       "      <td>Shingeki no Kyojin</td>\n",
       "      <td>tv</td>\n",
       "      <td>8.53</td>\n",
       "      <td>2469488</td>\n",
       "      <td>finished_airing</td>\n",
       "      <td>25</td>\n",
       "      <td>2013-04-07</td>\n",
       "      <td>2013-09-29</td>\n",
       "      <td>manga</td>\n",
       "      <td>3452617</td>\n",
       "      <td>153103</td>\n",
       "      <td>0 days 00:24:00</td>\n",
       "      <td>r</td>\n",
       "      <td>2013</td>\n",
       "      <td>spring</td>\n",
       "      <td>sunday</td>\n",
       "      <td>01:58:00</td>\n",
       "      <td>[Action, Drama, Gore, Military, Shounen, Survi...</td>\n",
       "      <td>[Wit Studio]</td>\n",
       "      <td>103.0</td>\n",
       "      <td>Centuries ago, mankind was slaughtered to near...</td>\n",
       "      <td>white</td>\n",
       "      <td>2012-12-05 12:03:21+00:00</td>\n",
       "      <td>2022-04-18 05:00:25+00:00</td>\n",
       "      <td>https://api-cdn.myanimelist.net/images/anime/1...</td>\n",
       "      <td>https://api-cdn.myanimelist.net/images/anime/1...</td>\n",
       "      <td>Attack on Titan</td>\n",
       "      <td>進撃の巨人</td>\n",
       "      <td>[AoT, SnK]</td>\n",
       "    </tr>\n",
       "  </tbody>\n",
       "</table>\n",
       "</div>"
      ],
      "text/plain": [
       "      id               title media_type  mean  num_scoring_users  \\\n",
       "0  16498  Shingeki no Kyojin         tv  8.53            2469488   \n",
       "\n",
       "            status  num_episodes start_date   end_date source  num_list_users  \\\n",
       "0  finished_airing            25 2013-04-07 2013-09-29  manga         3452617   \n",
       "\n",
       "   num_favorites average_episode_duration rating  start_season_year  \\\n",
       "0         153103          0 days 00:24:00      r               2013   \n",
       "\n",
       "  start_season_season broadcast_day_of_the_week broadcast_start_time  \\\n",
       "0              spring                    sunday             01:58:00   \n",
       "\n",
       "                                              genres       studios   rank  \\\n",
       "0  [Action, Drama, Gore, Military, Shounen, Survi...  [Wit Studio]  103.0   \n",
       "\n",
       "                                            synopsis   nsfw  \\\n",
       "0  Centuries ago, mankind was slaughtered to near...  white   \n",
       "\n",
       "                 created_at                updated_at  \\\n",
       "0 2012-12-05 12:03:21+00:00 2022-04-18 05:00:25+00:00   \n",
       "\n",
       "                                 main_picture_medium  \\\n",
       "0  https://api-cdn.myanimelist.net/images/anime/1...   \n",
       "\n",
       "                                  main_picture_large alternative_titles_en  \\\n",
       "0  https://api-cdn.myanimelist.net/images/anime/1...       Attack on Titan   \n",
       "\n",
       "  alternative_titles_ja alternative_titles_synonyms  \n",
       "0                 進撃の巨人                  [AoT, SnK]  "
      ]
     },
     "execution_count": 1,
     "metadata": {},
     "output_type": "execute_result"
    }
   ],
   "source": [
    "import pandas as pd\n",
    "import numpy as np\n",
    "import json\n",
    "\n",
    "with open('data/data_tmp/anime_raw.json', 'r') as f:\n",
    "    data = json.load(f)\n",
    "\n",
    "anime = pd.json_normalize(data, sep='_')\n",
    "\n",
    "# They rank mean and num_list_users \"wrong\": draws sorted alphabetically (maybe even split at middle)\n",
    "dropped_cols = ['rank', 'popularity']\n",
    "#anime.drop(columns=dropped_cols, inplace=True)\n",
    "\n",
    "# Use Timestamps\n",
    "anime['start_date'] = pd.to_datetime(anime['start_date'])\n",
    "anime['end_date'] = pd.to_datetime(anime['end_date'])\n",
    "\n",
    "# Avoid false zeroes and unnecessary float\n",
    "anime['num_episodes'] = anime['num_episodes'].replace(0, np.nan).astype('Int64')\n",
    "\n",
    "# Use Timedelta\n",
    "anime['average_episode_duration'] = pd.to_timedelta(anime['average_episode_duration'].replace(0, np.nan), unit='s')\n",
    "\n",
    "# Avoid floats, as time\n",
    "anime['start_season_year'] = anime['start_season_year'].astype('Int64')\n",
    "anime['broadcast_start_time'] = pd.to_datetime(anime['broadcast_start_time']).dt.time\n",
    "\n",
    "# Only keep names\n",
    "anime['genres'] = anime['genres'].apply(lambda x: [dic['name'] for dic in x] if not x is np.nan else [])\n",
    "anime['studios'] = anime['studios'].apply(lambda x: [dic['name'] for dic in x] if not x is np.nan else [])\n",
    "\n",
    "# MyAnimeList edits\n",
    "anime['created_at'] = pd.to_datetime(anime['created_at'])\n",
    "anime['updated_at'] = pd.to_datetime(anime['updated_at'])\n",
    "\n",
    "# Avoid empty string\n",
    "anime['synopsis'] = anime['synopsis'].replace('', np.nan)\n",
    "anime['alternative_titles_en'] = anime['alternative_titles_en'].replace('', np.nan)\n",
    "anime['alternative_titles_ja'] = anime['alternative_titles_ja'].replace('', np.nan)\n",
    "                      \n",
    "\n",
    "order = ['id', 'title', 'media_type', 'mean', 'num_scoring_users',                          # 10 Most important attributes, \n",
    "         'status', 'num_episodes', 'start_date', 'end_date', 'source',                      # appearing first on kaggle\n",
    "\n",
    "         'num_list_users', 'num_favorites', 'average_episode_duration', 'rating',           # Other important\n",
    "         'start_season_year','start_season_season',                                         # attributes\n",
    "         'broadcast_day_of_the_week', 'broadcast_start_time',   \n",
    "\n",
    "         'genres', 'studios',  'rank',                                                             # Multivalued attributes\n",
    "         'synopsis', 'nsfw', 'created_at', 'updated_at',                                    # Description, MyAnimeList edits\n",
    "         \n",
    "         'main_picture_medium', 'main_picture_large',                                       # Media data\n",
    "         'alternative_titles_en', 'alternative_titles_ja', 'alternative_titles_synonyms']   # Other titles\n",
    "\n",
    "\n",
    "anime = anime[order]\n",
    "\n",
    "# Save to csv\n",
    "anime.to_csv('data/anime.csv', index=False)\n",
    "\n",
    "pd.options.display.max_columns = None\n",
    "anime.head(1)"
   ]
  },
  {
   "cell_type": "code",
   "execution_count": 292,
   "metadata": {},
   "outputs": [
    {
     "data": {
      "text/plain": [
       "(20602, 29)"
      ]
     },
     "execution_count": 292,
     "metadata": {},
     "output_type": "execute_result"
    }
   ],
   "source": [
    "anime.shape"
   ]
  },
  {
   "cell_type": "markdown",
   "metadata": {},
   "source": [
    "## Load Anime"
   ]
  },
  {
   "cell_type": "code",
   "execution_count": 179,
   "metadata": {},
   "outputs": [
    {
     "data": {
      "text/html": [
       "<div>\n",
       "<style scoped>\n",
       "    .dataframe tbody tr th:only-of-type {\n",
       "        vertical-align: middle;\n",
       "    }\n",
       "\n",
       "    .dataframe tbody tr th {\n",
       "        vertical-align: top;\n",
       "    }\n",
       "\n",
       "    .dataframe thead th {\n",
       "        text-align: right;\n",
       "    }\n",
       "</style>\n",
       "<table border=\"1\" class=\"dataframe\">\n",
       "  <thead>\n",
       "    <tr style=\"text-align: right;\">\n",
       "      <th></th>\n",
       "      <th>id</th>\n",
       "      <th>title</th>\n",
       "      <th>media_type</th>\n",
       "      <th>mean</th>\n",
       "      <th>num_scoring_users</th>\n",
       "      <th>status</th>\n",
       "      <th>num_episodes</th>\n",
       "      <th>start_date</th>\n",
       "      <th>end_date</th>\n",
       "      <th>source</th>\n",
       "      <th>num_list_users</th>\n",
       "      <th>popularity</th>\n",
       "      <th>num_favorites</th>\n",
       "      <th>rank</th>\n",
       "      <th>average_episode_duration</th>\n",
       "      <th>rating</th>\n",
       "      <th>start_season_year</th>\n",
       "      <th>start_season_season</th>\n",
       "      <th>broadcast_day_of_the_week</th>\n",
       "      <th>broadcast_start_time</th>\n",
       "      <th>genres</th>\n",
       "      <th>studios</th>\n",
       "      <th>synopsis</th>\n",
       "      <th>nsfw</th>\n",
       "      <th>created_at</th>\n",
       "      <th>updated_at</th>\n",
       "      <th>main_picture_medium</th>\n",
       "      <th>main_picture_large</th>\n",
       "      <th>alternative_titles_en</th>\n",
       "      <th>alternative_titles_ja</th>\n",
       "      <th>alternative_titles_synonyms</th>\n",
       "    </tr>\n",
       "  </thead>\n",
       "  <tbody>\n",
       "    <tr>\n",
       "      <th>0</th>\n",
       "      <td>16498</td>\n",
       "      <td>Shingeki no Kyojin</td>\n",
       "      <td>tv</td>\n",
       "      <td>8.53</td>\n",
       "      <td>2469488</td>\n",
       "      <td>finished_airing</td>\n",
       "      <td>25</td>\n",
       "      <td>2013-04-07</td>\n",
       "      <td>2013-09-29</td>\n",
       "      <td>manga</td>\n",
       "      <td>3452617</td>\n",
       "      <td>1</td>\n",
       "      <td>153103</td>\n",
       "      <td>103</td>\n",
       "      <td>0 days 00:24:00</td>\n",
       "      <td>r</td>\n",
       "      <td>2013</td>\n",
       "      <td>spring</td>\n",
       "      <td>sunday</td>\n",
       "      <td>01:58:00</td>\n",
       "      <td>[Action, Drama, Gore, Military, Shounen, Survi...</td>\n",
       "      <td>[Wit Studio]</td>\n",
       "      <td>Centuries ago, mankind was slaughtered to near...</td>\n",
       "      <td>white</td>\n",
       "      <td>2012-12-05 12:03:21+00:00</td>\n",
       "      <td>2022-04-18 05:00:25+00:00</td>\n",
       "      <td>https://api-cdn.myanimelist.net/images/anime/1...</td>\n",
       "      <td>https://api-cdn.myanimelist.net/images/anime/1...</td>\n",
       "      <td>Attack on Titan</td>\n",
       "      <td>進撃の巨人</td>\n",
       "      <td>[AoT, SnK]</td>\n",
       "    </tr>\n",
       "  </tbody>\n",
       "</table>\n",
       "</div>"
      ],
      "text/plain": [
       "      id               title media_type  mean  num_scoring_users  \\\n",
       "0  16498  Shingeki no Kyojin         tv  8.53            2469488   \n",
       "\n",
       "            status  num_episodes start_date   end_date source  num_list_users  \\\n",
       "0  finished_airing            25 2013-04-07 2013-09-29  manga         3452617   \n",
       "\n",
       "   popularity  num_favorites  rank average_episode_duration rating  \\\n",
       "0           1         153103   103          0 days 00:24:00      r   \n",
       "\n",
       "   start_season_year start_season_season broadcast_day_of_the_week  \\\n",
       "0               2013              spring                    sunday   \n",
       "\n",
       "  broadcast_start_time                                             genres  \\\n",
       "0             01:58:00  [Action, Drama, Gore, Military, Shounen, Survi...   \n",
       "\n",
       "        studios                                           synopsis   nsfw  \\\n",
       "0  [Wit Studio]  Centuries ago, mankind was slaughtered to near...  white   \n",
       "\n",
       "                 created_at                updated_at  \\\n",
       "0 2012-12-05 12:03:21+00:00 2022-04-18 05:00:25+00:00   \n",
       "\n",
       "                                 main_picture_medium  \\\n",
       "0  https://api-cdn.myanimelist.net/images/anime/1...   \n",
       "\n",
       "                                  main_picture_large alternative_titles_en  \\\n",
       "0  https://api-cdn.myanimelist.net/images/anime/1...       Attack on Titan   \n",
       "\n",
       "  alternative_titles_ja alternative_titles_synonyms  \n",
       "0                 進撃の巨人                  [AoT, SnK]  "
      ]
     },
     "execution_count": 179,
     "metadata": {},
     "output_type": "execute_result"
    }
   ],
   "source": [
    "from ast import literal_eval\n",
    "import pandas as pd\n",
    "\n",
    "anime = pd.read_csv('data/anime.csv')\n",
    "\n",
    "columns_dtype_datetime = ['start_date', 'end_date', 'created_at', 'updated_at']\n",
    "for col in columns_dtype_datetime:\n",
    "    anime[col] = pd.to_datetime(anime[col])\n",
    "\n",
    "columns_dtype_Int64 = ['num_episodes', 'popularity', 'rank', 'start_season_year']\n",
    "for col in columns_dtype_Int64:\n",
    "    anime[col] = anime[col].astype('Int64')\n",
    "\n",
    "columns_dtype_list = ['genres', 'studios', 'alternative_titles_synonyms']\n",
    "for col in columns_dtype_list:\n",
    "    anime[col] = anime[col].apply(literal_eval)\n",
    "\n",
    "anime['broadcast_start_time'] = pd.to_datetime(anime['broadcast_start_time']).dt.time   # Time of day\n",
    "\n",
    "anime['average_episode_duration'] = pd.to_timedelta(anime['average_episode_duration'])  # Duration\n",
    "\n",
    "anime.head(1)"
   ]
  },
  {
   "cell_type": "markdown",
   "metadata": {},
   "source": [
    "- Yesterday, 11:15 AM a Yesterday,  1:49 PM     52176                   Yesterday, 9:46 PM a Todayyyyy, 5:23 AM (i.e. Today, 5 del matí)\n",
    "- Yesterday, 11:32 AM a Yesterday, 12:32 PM     52282                   Yesterday, 7:43 PM a Yesterday, 9:46 PM\n",
    "- Yesterday, 11:16 AM a Yesterday, 12:49 PM     52301                   Yesterday, 4:53 PM a Yesterday, 9:48 PM\n",
    "- Yesterday, 11:28 AM a Yesterday,  2:54 PM     52159                   Yesterday, 6:54 PM a ????\n",
    "- Yesterday,  2:55 PM a Yesterday, 10:30 PM     52195 (deleted????)     Aquest segon canvi vist a les 17, abans no apareixia (alongside l'addició de 2 extres?)\n",
    "\n",
    "                                                51832                   Yesterday, 9:01 PM a Yesterday, 9:49 PM\n",
    "\n",
    "\n",
    "12 i 21:30???\n",
    "\n",
    "Hasn't updated anymore yet (i.e. I don't see the changes)\n",
    "\n",
    "52325 updated and added at 2022-07-07T 15:53:49\n",
    "\n",
    "Jikan API somehow updates to old data????!!!! Per tant, MAI o CASI MAI té les últimes dades...\n",
    "Yesterday, 12 del migdia???\n",
    "\n",
    "Fins i tot la llista normal de MyAnimeList (de Favorits) es podia paginar malament, veient-se un mateix en dues pàgines i perdent un altre"
   ]
  },
  {
   "cell_type": "markdown",
   "metadata": {},
   "source": [
    "- Not Ranked & != Not Yet Aired <--> Hentai or Erotica\n",
    "- Rating rx --> Hentai, but 11 Hentai's have rating r+\n",
    "- Should I split normal anime and Hentai/Erotica?\n",
    "- Erotica -> Boys Love en tots menys un"
   ]
  },
  {
   "cell_type": "markdown",
   "metadata": {},
   "source": [
    "Jikan may retrieve actually data from 5 minutes! (in Userupdates with a miss, though it took a while to actually load it, the first request failed)"
   ]
  },
  {
   "cell_type": "code",
   "execution_count": 280,
   "metadata": {},
   "outputs": [
    {
     "data": {
      "text/plain": [
       "[None]"
      ]
     },
     "execution_count": 280,
     "metadata": {},
     "output_type": "execute_result"
    },
    {
     "data": {
      "image/png": "[encoded data removed]",
      "text/plain": [
       "<Figure size 1152x720 with 1 Axes>"
      ]
     },
     "metadata": {
      "needs_background": "light"
     },
     "output_type": "display_data"
    }
   ],
   "source": [
    "plt.figure(figsize=(16, 10))\n",
    "\n",
    "splot = sns.histplot(anime, x='num_scoring_users', bins=80)\n",
    "splot.set(yscale='log')"
   ]
  },
  {
   "cell_type": "markdown",
   "metadata": {},
   "source": [
    "## Conclusió\n",
    "- Algunes coses MAL les actualitza gairebé casi instant (últimes actualitzacions, PTW vs Watching vs CP) (en els de la temporada només??)\n",
    "- Aparentment les notes donades i la mean 2 cops al dia\n",
    "- Jikan té updates més estranyes, segons el que diu tot es fa caché de 24h, però quan agafa dades noves les agafa slightly velles?"
   ]
  },
  {
   "cell_type": "markdown",
   "metadata": {},
   "source": [
    "### Ordenar meva llista (order)\n",
    "0. Per defecte (status, alfabètic) -----\n",
    "1. Títol\n",
    "2. Data acabat\n",
    "3. Data començat\n",
    "4. Nota meva\n",
    "5. Última modificació\n",
    "6. Tipus\n",
    "7. Per defecte (status, alfabètic) -----\n",
    "8. Rating\n",
    "9. Rewatch value...\n",
    "10. Per defecte (status, alfabètic) -----\n",
    "11. Prioritat\n",
    "12. Episodis vistos\n",
    "13. Storage\n",
    "14. Air start date\n",
    "15. Air end date\n",
    "16. Status"
   ]
  },
  {
   "cell_type": "markdown",
   "metadata": {},
   "source": [
    "### Ordre (o)\n",
    "\n",
    "- w=1: ascendent (inverteix l'ordre)\n",
    "- w=2: descendent (per defecte)\n",
    "- no exactament així però algun w=0, 1 o 2 inverteix l'ordre\n",
    "\n",
    "0. Alfabètic descendent\n",
    "1. Alfabètic ascendent\n",
    "2. Start date descendent\n",
    "3. Nota descendent\n",
    "4. Episodis descendent\n",
    "5. End date descendent\n",
    "6. Tipus (music, ...)\n",
    "7. Membres descendent\n",
    "8. Rating (rx, ...)\n",
    "9. Id descendent (= data creació)"
   ]
  },
  {
   "cell_type": "markdown",
   "metadata": {},
   "source": [
    "Els estats dins d'un anime s'actualitzen sovint (nº en cada estat i.e. Summary Stats) (vist 43470).\n",
    "Els que no en tenen però (s'ha afegit fa poc) sembla que no"
   ]
  },
  {
   "cell_type": "markdown",
   "metadata": {},
   "source": [
    "### Rank\n",
    "-      1 a 12.749: per nota de 9.16 a 1.84\n",
    "- 12.750 a 15.973: 'Mahou no S' a 'Zumono' (canvia el tall)\n",
    "- 15.974 a 18.699: '\"Aes' a 'Mahou no R'\n",
    "- 18.700 a 20.602: resta descendent en membres (ve de com l'he descarregat...)"
   ]
  },
  {
   "cell_type": "markdown",
   "metadata": {},
   "source": [
    "- Scored <--> 100+ (101?) notes vàlides (20%+ vist, excloent bots i voting memes)\n",
    "- Ranked <--> No Hentai or Erotica i No not_yet_aired\n",
    "\n",
    "Score no té més precicisó que 2 decimals, en cas d'empats s'ordena alfabèticament, tot i que a vegades es talla per una lletra random (ma)"
   ]
  },
  {
   "cell_type": "markdown",
   "metadata": {},
   "source": [
    "### Rank\n",
    "\n",
    "(7 July 2022)\n",
    "\n",
    "- 1 a 12.781: per nota de 9.15 a 1.84 (els que tenen mateixa nota està ordenat alfabètic o weird alfabètic)\n",
    "\n",
    "Aired, alfabètic amb un tall (canvia) (tenen rank encara, but really stupid)\n",
    "- 12.782 a 16.064: 'Magic Adventures'   a 'Zumono'\n",
    "- 16.065 a 18.821: '\"Aes'               a 'Magic'\n",
    "\n",
    "Not aired, alfabètic amb un tall (sense rank)\n",
    "- 18.822 a 19.052: 'Mahou Shoujo'       a 'Zuoshou'\n",
    "- 19.053 a 19.252: '\"Oshi no'           a 'Made in Abyss'\n",
    "\n",
    "Tots els Rx - Hentai\n",
    "- 19.253 a 20.702: 'Kaede to Suzu'      a 'Tsui no Sora' (ordenats per nota)\n",
    "- 20.703 a 20.725: 'Mori no Kuma-san'   a 'Korogashi Ryouta' (alfabètic amb tall)\n",
    "\n",
    "Conclusió: rank és kinda stupid, només s'utilitzen els decimals de score i es separa el Hentai"
   ]
  },
  {
   "cell_type": "markdown",
   "metadata": {},
   "source": [
    "### Popularity\n",
    "També es fan els desempats alfabèticament man"
   ]
  },
  {
   "cell_type": "markdown",
   "metadata": {},
   "source": [
    "- 39449, 40089, 28361, 10244 spammed (new accounts, duplicate accounts)\n",
    "- 48391, 11541 not even finished"
   ]
  },
  {
   "cell_type": "code",
   "execution_count": null,
   "metadata": {},
   "outputs": [],
   "source": []
  }
 ],
 "metadata": {
  "kernelspec": {
   "display_name": "Python 3.10.1 64-bit",
   "language": "python",
   "name": "python3"
  },
  "language_info": {
   "codemirror_mode": {
    "name": "ipython",
    "version": 3
   },
   "file_extension": ".py",
   "mimetype": "text/x-python",
   "name": "python",
   "nbconvert_exporter": "python",
   "pygments_lexer": "ipython3",
   "version": "3.10.1"
  },
  "orig_nbformat": 4,
  "vscode": {
   "interpreter": {
    "hash": "ad2117d8da04c720903da65ba8862d63b2fb82849cd17efbeca69c80f28b43db"
   }
  }
 },
 "nbformat": 4,
 "nbformat_minor": 2
}
