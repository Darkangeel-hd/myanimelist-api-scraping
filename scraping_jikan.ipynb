{
 "cells": [
  {
   "cell_type": "markdown",
   "metadata": {},
   "source": [
    "## Scrape the Jikan Database"
   ]
  },
  {
   "cell_type": "code",
   "execution_count": 1,
   "metadata": {},
   "outputs": [],
   "source": [
    "import requests\n",
    "import json\n",
    "\n",
    "api_url = 'https://api.jikan.moe/v4'\n",
    "\n",
    "def scrape_page(endpoint, page, file_path):\n",
    "    response = requests.get(api_url + endpoint + f'?page={page}')\n",
    "    response.raise_for_status()\n",
    "    data = response.json()\n",
    "    with open(file_path, 'w') as f:\n",
    "        json.dump(data['data'], f, indent=4)"
   ]
  },
  {
   "cell_type": "code",
   "execution_count": 2,
   "metadata": {},
   "outputs": [],
   "source": [
    "import datetime\n",
    "import tqdm\n",
    "import time\n",
    "import os\n",
    "\n",
    "wait = 1.2 # seconds, with 1.15 crashed\n",
    "\n",
    "def scrape_jikan_db(database):\n",
    "\n",
    "    tmp_directory = f'data/raw/tmp_{database}_jikan'\n",
    "    os.makedirs(tmp_directory)\n",
    "    \n",
    "    last_page = requests.get(api_url + '/' + database).json()['pagination']['last_visible_page']\n",
    "    length = len(str(last_page))\n",
    "\n",
    "    start = datetime.datetime.now().strftime(\"%Y-%m-%d %H.%M.%S\")\n",
    "    print('Scraped at:', start)\n",
    "    \n",
    "    for page in tqdm.trange(1, last_page + 1):\n",
    "        start = time.perf_counter()\n",
    "        scrape_page('/' + database, page, tmp_directory + f'/page{str(page).zfill(length)}.json')\n",
    "        end = time.perf_counter()\n",
    "        time.sleep(max(0, start + wait - end))\n",
    "    \n",
    "    merge_files(tmp_directory, database)"
   ]
  },
  {
   "cell_type": "code",
   "execution_count": 3,
   "metadata": {},
   "outputs": [],
   "source": [
    "import shutil\n",
    "\n",
    "def merge_files(tmp_directory, database):\n",
    "\n",
    "    data = []\n",
    "    for file_name in os.listdir(tmp_directory):\n",
    "        file_path = os.path.join(tmp_directory, file_name)\n",
    "        with open(file_path, 'r') as f:\n",
    "            file = json.load(f)\n",
    "        data.extend(file)\n",
    "    \n",
    "    with open(f'data/raw/{database}_jikan.json', 'w') as f:\n",
    "        json.dump(data, f, indent=4)\n",
    "    \n",
    "    shutil.rmtree(tmp_directory)"
   ]
  },
  {
   "cell_type": "markdown",
   "metadata": {},
   "source": [
    "## Actual Scraping"
   ]
  },
  {
   "cell_type": "markdown",
   "metadata": {},
   "source": [
    "### Anime"
   ]
  },
  {
   "cell_type": "code",
   "execution_count": 4,
   "metadata": {},
   "outputs": [
    {
     "name": "stdout",
     "output_type": "stream",
     "text": [
      "Scraped at: 2022-07-23 20.48.32\n"
     ]
    },
    {
     "name": "stderr",
     "output_type": "stream",
     "text": [
      "100%|██████████| 988/988 [19:54<00:00,  1.21s/it]\n",
      "100%|██████████| 988/988 [00:08<00:00, 114.55it/s]\n"
     ]
    }
   ],
   "source": [
    "scrape_jikan_db('anime')"
   ]
  },
  {
   "cell_type": "markdown",
   "metadata": {},
   "source": [
    "### Manga"
   ]
  },
  {
   "cell_type": "code",
   "execution_count": 4,
   "metadata": {},
   "outputs": [
    {
     "name": "stdout",
     "output_type": "stream",
     "text": [
      "Scraped at: 2022-07-25 10.57.49\n"
     ]
    },
    {
     "name": "stderr",
     "output_type": "stream",
     "text": [
      "100%|██████████| 2656/2656 [53:22<00:00,  1.21s/it]\n"
     ]
    }
   ],
   "source": [
    "scrape_jikan_db('manga')"
   ]
  },
  {
   "cell_type": "code",
   "execution_count": null,
   "metadata": {},
   "outputs": [],
   "source": []
  }
 ],
 "metadata": {
  "kernelspec": {
   "display_name": "Python 3.10.5 64-bit",
   "language": "python",
   "name": "python3"
  },
  "language_info": {
   "codemirror_mode": {
    "name": "ipython",
    "version": 3
   },
   "file_extension": ".py",
   "mimetype": "text/x-python",
   "name": "python",
   "nbconvert_exporter": "python",
   "pygments_lexer": "ipython3",
   "version": "3.10.5"
  },
  "orig_nbformat": 4,
  "vscode": {
   "interpreter": {
    "hash": "ad2117d8da04c720903da65ba8862d63b2fb82849cd17efbeca69c80f28b43db"
   }
  }
 },
 "nbformat": 4,
 "nbformat_minor": 2
}
