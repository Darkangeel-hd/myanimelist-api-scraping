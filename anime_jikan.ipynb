{
 "cells": [
  {
   "cell_type": "markdown",
   "metadata": {},
   "source": [
    "## Scrap Anime"
   ]
  },
  {
   "cell_type": "code",
   "execution_count": 4,
   "metadata": {},
   "outputs": [],
   "source": [
    "import requests\n",
    "import json\n",
    "\n",
    "anime_path = 'data/raw/anime_jikan'\n",
    "\n",
    "url = 'https://api.jikan.moe/v4/anime'\n",
    "\n",
    "def scrape_page(url, page):\n",
    "    response = requests.get(url + f'?page={page}')\n",
    "    response.raise_for_status()\n",
    "    data = response.json()\n",
    "    with open(anime_path + f'/page{str(page).zfill(3)}.json', 'w') as f:\n",
    "        json.dump(data['data'], f, indent=4)"
   ]
  },
  {
   "cell_type": "code",
   "execution_count": 5,
   "metadata": {},
   "outputs": [
    {
     "data": {
      "text/plain": [
       "984"
      ]
     },
     "execution_count": 5,
     "metadata": {},
     "output_type": "execute_result"
    }
   ],
   "source": [
    "last_page = requests.get(url).json()['pagination']['last_visible_page']\n",
    "last_page"
   ]
  },
  {
   "cell_type": "code",
   "execution_count": 7,
   "metadata": {},
   "outputs": [
    {
     "name": "stderr",
     "output_type": "stream",
     "text": [
      "100%|██████████| 984/984 [19:49<00:00,  1.21s/it]\n"
     ]
    }
   ],
   "source": [
    "import tqdm\n",
    "import time\n",
    "\n",
    "wait = 1.2 # seconds\n",
    "\n",
    "for page in tqdm.trange(1, last_page+1):\n",
    "    start = time.perf_counter()\n",
    "    scrape_page(url, page)\n",
    "    end = time.perf_counter()\n",
    "    time.sleep(max(0, start + wait - end))"
   ]
  },
  {
   "cell_type": "markdown",
   "metadata": {},
   "source": [
    "## Merge Files"
   ]
  },
  {
   "cell_type": "code",
   "execution_count": 8,
   "metadata": {},
   "outputs": [
    {
     "data": {
      "text/plain": [
       "24595"
      ]
     },
     "execution_count": 8,
     "metadata": {},
     "output_type": "execute_result"
    }
   ],
   "source": [
    "import os\n",
    "\n",
    "scraping_save_pages = 'data/raw/anime_jikan'\n",
    "\n",
    "data = []\n",
    "for file_name in os.listdir(scraping_save_pages):\n",
    "    file_path = os.path.join(scraping_save_pages, file_name)\n",
    "    with open(file_path, 'r') as f:\n",
    "        file = json.load(f)\n",
    "    data.extend(file)\n",
    "\n",
    "len(data)"
   ]
  },
  {
   "cell_type": "code",
   "execution_count": 9,
   "metadata": {},
   "outputs": [
    {
     "name": "stdout",
     "output_type": "stream",
     "text": [
      "50684 repeteated!\n",
      "50684 repeteated!\n"
     ]
    },
    {
     "data": {
      "text/plain": [
       "24593"
      ]
     },
     "execution_count": 9,
     "metadata": {},
     "output_type": "execute_result"
    }
   ],
   "source": [
    "data_unique, ids = [], set()\n",
    "for anime in data:\n",
    "    if anime['mal_id'] not in ids:\n",
    "        ids.add(anime['mal_id'])\n",
    "        data_unique.append(anime)\n",
    "    else:\n",
    "        print(anime['mal_id'], 'repeteated!')\n",
    "\n",
    "len(data_unique)"
   ]
  },
  {
   "cell_type": "code",
   "execution_count": 11,
   "metadata": {},
   "outputs": [],
   "source": [
    "with open('data/raw/anime_jikan.json', 'w') as f:\n",
    "    json.dump(data_unique, f, indent=4)"
   ]
  },
  {
   "cell_type": "markdown",
   "metadata": {},
   "source": [
    "## Anime Cleaning"
   ]
  },
  {
   "cell_type": "code",
   "execution_count": 26,
   "metadata": {},
   "outputs": [
    {
     "name": "stdout",
     "output_type": "stream",
     "text": [
      "(24593, 34)\n"
     ]
    },
    {
     "data": {
      "text/html": [
       "<div>\n",
       "<style scoped>\n",
       "    .dataframe tbody tr th:only-of-type {\n",
       "        vertical-align: middle;\n",
       "    }\n",
       "\n",
       "    .dataframe tbody tr th {\n",
       "        vertical-align: top;\n",
       "    }\n",
       "\n",
       "    .dataframe thead th {\n",
       "        text-align: right;\n",
       "    }\n",
       "</style>\n",
       "<table border=\"1\" class=\"dataframe\">\n",
       "  <thead>\n",
       "    <tr style=\"text-align: right;\">\n",
       "      <th></th>\n",
       "      <th>mal_id</th>\n",
       "      <th>url</th>\n",
       "      <th>images</th>\n",
       "      <th>trailer</th>\n",
       "      <th>title</th>\n",
       "      <th>title_english</th>\n",
       "      <th>title_japanese</th>\n",
       "      <th>title_synonyms</th>\n",
       "      <th>type</th>\n",
       "      <th>source</th>\n",
       "      <th>episodes</th>\n",
       "      <th>status</th>\n",
       "      <th>airing</th>\n",
       "      <th>aired</th>\n",
       "      <th>duration</th>\n",
       "      <th>rating</th>\n",
       "      <th>score</th>\n",
       "      <th>scored_by</th>\n",
       "      <th>rank</th>\n",
       "      <th>popularity</th>\n",
       "      <th>members</th>\n",
       "      <th>favorites</th>\n",
       "      <th>synopsis</th>\n",
       "      <th>background</th>\n",
       "      <th>season</th>\n",
       "      <th>year</th>\n",
       "      <th>broadcast</th>\n",
       "      <th>producers</th>\n",
       "      <th>licensors</th>\n",
       "      <th>studios</th>\n",
       "      <th>genres</th>\n",
       "      <th>themes</th>\n",
       "      <th>demographics</th>\n",
       "      <th>trailer_url</th>\n",
       "    </tr>\n",
       "  </thead>\n",
       "  <tbody>\n",
       "    <tr>\n",
       "      <th>3962</th>\n",
       "      <td>5114</td>\n",
       "      <td>https://myanimelist.net/anime/5114/Fullmetal_A...</td>\n",
       "      <td>{'jpg': {'image_url': 'https://cdn.myanimelist...</td>\n",
       "      <td>{'youtube_id': '--IcmZkvL0Q', 'url': 'https://...</td>\n",
       "      <td>Fullmetal Alchemist: Brotherhood</td>\n",
       "      <td>Fullmetal Alchemist: Brotherhood</td>\n",
       "      <td>鋼の錬金術師 FULLMETAL ALCHEMIST</td>\n",
       "      <td>[Hagane no Renkinjutsushi: Fullmetal Alchemist...</td>\n",
       "      <td>TV</td>\n",
       "      <td>Manga</td>\n",
       "      <td>64.0</td>\n",
       "      <td>Finished Airing</td>\n",
       "      <td>False</td>\n",
       "      <td>{'from': '2009-04-05T00:00:00+00:00', 'to': '2...</td>\n",
       "      <td>24 min per ep</td>\n",
       "      <td>R - 17+ (violence &amp; profanity)</td>\n",
       "      <td>9.13</td>\n",
       "      <td>1865027.0</td>\n",
       "      <td>2.0</td>\n",
       "      <td>3</td>\n",
       "      <td>2922248</td>\n",
       "      <td>204044</td>\n",
       "      <td>After a horrific alchemy experiment goes wrong...</td>\n",
       "      <td>None</td>\n",
       "      <td>spring</td>\n",
       "      <td>2009.0</td>\n",
       "      <td>{'day': 'Sundays', 'time': '17:00', 'timezone'...</td>\n",
       "      <td>[Aniplex, Square Enix, Mainichi Broadcasting S...</td>\n",
       "      <td>[Funimation, Aniplex of America]</td>\n",
       "      <td>[Bones]</td>\n",
       "      <td>[Action, Adventure, Drama, Fantasy]</td>\n",
       "      <td>[Military]</td>\n",
       "      <td>[Shounen]</td>\n",
       "      <td>https://www.youtube.com/watch?v=--IcmZkvL0Q</td>\n",
       "    </tr>\n",
       "  </tbody>\n",
       "</table>\n",
       "</div>"
      ],
      "text/plain": [
       "      mal_id                                                url  \\\n",
       "3962    5114  https://myanimelist.net/anime/5114/Fullmetal_A...   \n",
       "\n",
       "                                                 images  \\\n",
       "3962  {'jpg': {'image_url': 'https://cdn.myanimelist...   \n",
       "\n",
       "                                                trailer  \\\n",
       "3962  {'youtube_id': '--IcmZkvL0Q', 'url': 'https://...   \n",
       "\n",
       "                                 title                     title_english  \\\n",
       "3962  Fullmetal Alchemist: Brotherhood  Fullmetal Alchemist: Brotherhood   \n",
       "\n",
       "                  title_japanese  \\\n",
       "3962  鋼の錬金術師 FULLMETAL ALCHEMIST   \n",
       "\n",
       "                                         title_synonyms type source  episodes  \\\n",
       "3962  [Hagane no Renkinjutsushi: Fullmetal Alchemist...   TV  Manga      64.0   \n",
       "\n",
       "               status  airing  \\\n",
       "3962  Finished Airing   False   \n",
       "\n",
       "                                                  aired       duration  \\\n",
       "3962  {'from': '2009-04-05T00:00:00+00:00', 'to': '2...  24 min per ep   \n",
       "\n",
       "                              rating  score  scored_by  rank  popularity  \\\n",
       "3962  R - 17+ (violence & profanity)   9.13  1865027.0   2.0           3   \n",
       "\n",
       "      members  favorites                                           synopsis  \\\n",
       "3962  2922248     204044  After a horrific alchemy experiment goes wrong...   \n",
       "\n",
       "     background  season    year  \\\n",
       "3962       None  spring  2009.0   \n",
       "\n",
       "                                              broadcast  \\\n",
       "3962  {'day': 'Sundays', 'time': '17:00', 'timezone'...   \n",
       "\n",
       "                                              producers  \\\n",
       "3962  [Aniplex, Square Enix, Mainichi Broadcasting S...   \n",
       "\n",
       "                             licensors  studios  \\\n",
       "3962  [Funimation, Aniplex of America]  [Bones]   \n",
       "\n",
       "                                   genres      themes demographics  \\\n",
       "3962  [Action, Adventure, Drama, Fantasy]  [Military]    [Shounen]   \n",
       "\n",
       "                                      trailer_url  \n",
       "3962  https://www.youtube.com/watch?v=--IcmZkvL0Q  "
      ]
     },
     "execution_count": 26,
     "metadata": {},
     "output_type": "execute_result"
    }
   ],
   "source": [
    "import pandas as pd\n",
    "import numpy as np\n",
    "import json\n",
    "\n",
    "with open('data/raw/anime_jikan.json', 'r') as f:\n",
    "    data = json.load(f)\n",
    "\n",
    "anime = pd.DataFrame(data)\n",
    "\n",
    "anime['tmp'] = anime['score'].rank(ascending=False) + anime['members'].rank(ascending=False)\n",
    "anime.sort_values('tmp', inplace=True)\n",
    "anime.drop(columns=['tmp'], inplace=True)\n",
    "\n",
    "# Only keep names\n",
    "for col in ['genres', 'themes', 'demographics', 'studios', 'producers', 'licensors']:\n",
    "    anime[col] = anime[col].apply(lambda x: [dic['name'] for dic in x] if not x is np.nan else [])\n",
    "\n",
    "# Drop useless column\n",
    "assert all(anime.explicit_genres.astype('str')=='[]')\n",
    "anime.drop(columns=['explicit_genres'], inplace=True)\n",
    "\n",
    "# Save the url alone\n",
    "anime['trailer_url'] = anime.trailer.str['url']\n",
    "\n",
    "# Save to csv\n",
    "anime.to_csv('data/anime_jikan.csv', index=False)\n",
    "\n",
    "print(anime.shape)\n",
    "\n",
    "pd.options.display.max_columns = None\n",
    "anime.head(1)"
   ]
  },
  {
   "cell_type": "markdown",
   "metadata": {},
   "source": [
    "## Load Anime"
   ]
  },
  {
   "cell_type": "code",
   "execution_count": 20,
   "metadata": {},
   "outputs": [
    {
     "data": {
      "text/html": [
       "<div>\n",
       "<style scoped>\n",
       "    .dataframe tbody tr th:only-of-type {\n",
       "        vertical-align: middle;\n",
       "    }\n",
       "\n",
       "    .dataframe tbody tr th {\n",
       "        vertical-align: top;\n",
       "    }\n",
       "\n",
       "    .dataframe thead th {\n",
       "        text-align: right;\n",
       "    }\n",
       "</style>\n",
       "<table border=\"1\" class=\"dataframe\">\n",
       "  <thead>\n",
       "    <tr style=\"text-align: right;\">\n",
       "      <th></th>\n",
       "      <th>mal_id</th>\n",
       "      <th>url</th>\n",
       "      <th>images</th>\n",
       "      <th>trailer</th>\n",
       "      <th>title</th>\n",
       "      <th>title_english</th>\n",
       "      <th>title_japanese</th>\n",
       "      <th>title_synonyms</th>\n",
       "      <th>type</th>\n",
       "      <th>source</th>\n",
       "      <th>episodes</th>\n",
       "      <th>status</th>\n",
       "      <th>airing</th>\n",
       "      <th>aired</th>\n",
       "      <th>duration</th>\n",
       "      <th>rating</th>\n",
       "      <th>score</th>\n",
       "      <th>scored_by</th>\n",
       "      <th>rank</th>\n",
       "      <th>popularity</th>\n",
       "      <th>members</th>\n",
       "      <th>favorites</th>\n",
       "      <th>synopsis</th>\n",
       "      <th>background</th>\n",
       "      <th>season</th>\n",
       "      <th>year</th>\n",
       "      <th>broadcast</th>\n",
       "      <th>producers</th>\n",
       "      <th>licensors</th>\n",
       "      <th>studios</th>\n",
       "      <th>genres</th>\n",
       "      <th>explicit_genres</th>\n",
       "      <th>themes</th>\n",
       "      <th>demographics</th>\n",
       "    </tr>\n",
       "  </thead>\n",
       "  <tbody>\n",
       "    <tr>\n",
       "      <th>0</th>\n",
       "      <td>5114</td>\n",
       "      <td>https://myanimelist.net/anime/5114/Fullmetal_A...</td>\n",
       "      <td>{'jpg': {'image_url': 'https://cdn.myanimelist...</td>\n",
       "      <td>{'youtube_id': '--IcmZkvL0Q', 'url': 'https://...</td>\n",
       "      <td>Fullmetal Alchemist: Brotherhood</td>\n",
       "      <td>Fullmetal Alchemist: Brotherhood</td>\n",
       "      <td>鋼の錬金術師 FULLMETAL ALCHEMIST</td>\n",
       "      <td>['Hagane no Renkinjutsushi: Fullmetal Alchemis...</td>\n",
       "      <td>TV</td>\n",
       "      <td>Manga</td>\n",
       "      <td>64.0</td>\n",
       "      <td>Finished Airing</td>\n",
       "      <td>False</td>\n",
       "      <td>{'from': '2009-04-05T00:00:00+00:00', 'to': '2...</td>\n",
       "      <td>24 min per ep</td>\n",
       "      <td>R - 17+ (violence &amp; profanity)</td>\n",
       "      <td>9.13</td>\n",
       "      <td>1865027.0</td>\n",
       "      <td>2.0</td>\n",
       "      <td>3</td>\n",
       "      <td>2922248</td>\n",
       "      <td>204044</td>\n",
       "      <td>After a horrific alchemy experiment goes wrong...</td>\n",
       "      <td>NaN</td>\n",
       "      <td>spring</td>\n",
       "      <td>2009.0</td>\n",
       "      <td>{'day': 'Sundays', 'time': '17:00', 'timezone'...</td>\n",
       "      <td>[{'mal_id': 17, 'type': 'anime', 'name': 'Anip...</td>\n",
       "      <td>[{'mal_id': 102, 'type': 'anime', 'name': 'Fun...</td>\n",
       "      <td>[{'mal_id': 4, 'type': 'anime', 'name': 'Bones...</td>\n",
       "      <td>[{'mal_id': 1, 'type': 'anime', 'name': 'Actio...</td>\n",
       "      <td>[]</td>\n",
       "      <td>[{'mal_id': 38, 'type': 'anime', 'name': 'Mili...</td>\n",
       "      <td>[{'mal_id': 27, 'type': 'anime', 'name': 'Shou...</td>\n",
       "    </tr>\n",
       "  </tbody>\n",
       "</table>\n",
       "</div>"
      ],
      "text/plain": [
       "   mal_id                                                url  \\\n",
       "0    5114  https://myanimelist.net/anime/5114/Fullmetal_A...   \n",
       "\n",
       "                                              images  \\\n",
       "0  {'jpg': {'image_url': 'https://cdn.myanimelist...   \n",
       "\n",
       "                                             trailer  \\\n",
       "0  {'youtube_id': '--IcmZkvL0Q', 'url': 'https://...   \n",
       "\n",
       "                              title                     title_english  \\\n",
       "0  Fullmetal Alchemist: Brotherhood  Fullmetal Alchemist: Brotherhood   \n",
       "\n",
       "               title_japanese  \\\n",
       "0  鋼の錬金術師 FULLMETAL ALCHEMIST   \n",
       "\n",
       "                                      title_synonyms type source  episodes  \\\n",
       "0  ['Hagane no Renkinjutsushi: Fullmetal Alchemis...   TV  Manga      64.0   \n",
       "\n",
       "            status  airing                                              aired  \\\n",
       "0  Finished Airing   False  {'from': '2009-04-05T00:00:00+00:00', 'to': '2...   \n",
       "\n",
       "        duration                          rating  score  scored_by  rank  \\\n",
       "0  24 min per ep  R - 17+ (violence & profanity)   9.13  1865027.0   2.0   \n",
       "\n",
       "   popularity  members  favorites  \\\n",
       "0           3  2922248     204044   \n",
       "\n",
       "                                            synopsis background  season  \\\n",
       "0  After a horrific alchemy experiment goes wrong...        NaN  spring   \n",
       "\n",
       "     year                                          broadcast  \\\n",
       "0  2009.0  {'day': 'Sundays', 'time': '17:00', 'timezone'...   \n",
       "\n",
       "                                           producers  \\\n",
       "0  [{'mal_id': 17, 'type': 'anime', 'name': 'Anip...   \n",
       "\n",
       "                                           licensors  \\\n",
       "0  [{'mal_id': 102, 'type': 'anime', 'name': 'Fun...   \n",
       "\n",
       "                                             studios  \\\n",
       "0  [{'mal_id': 4, 'type': 'anime', 'name': 'Bones...   \n",
       "\n",
       "                                              genres explicit_genres  \\\n",
       "0  [{'mal_id': 1, 'type': 'anime', 'name': 'Actio...              []   \n",
       "\n",
       "                                              themes  \\\n",
       "0  [{'mal_id': 38, 'type': 'anime', 'name': 'Mili...   \n",
       "\n",
       "                                        demographics  \n",
       "0  [{'mal_id': 27, 'type': 'anime', 'name': 'Shou...  "
      ]
     },
     "execution_count": 20,
     "metadata": {},
     "output_type": "execute_result"
    }
   ],
   "source": [
    "import pandas as pd\n",
    "\n",
    "anime = pd.read_csv('data/anime_jikan.csv')\n",
    "\n",
    "anime.head(1)"
   ]
  },
  {
   "cell_type": "code",
   "execution_count": null,
   "metadata": {},
   "outputs": [],
   "source": []
  }
 ],
 "metadata": {
  "kernelspec": {
   "display_name": "Python 3.10.1 64-bit",
   "language": "python",
   "name": "python3"
  },
  "language_info": {
   "codemirror_mode": {
    "name": "ipython",
    "version": 3
   },
   "file_extension": ".py",
   "mimetype": "text/x-python",
   "name": "python",
   "nbconvert_exporter": "python",
   "pygments_lexer": "ipython3",
   "version": "3.10.1"
  },
  "orig_nbformat": 4,
  "vscode": {
   "interpreter": {
    "hash": "ad2117d8da04c720903da65ba8862d63b2fb82849cd17efbeca69c80f28b43db"
   }
  }
 },
 "nbformat": 4,
 "nbformat_minor": 2
}
